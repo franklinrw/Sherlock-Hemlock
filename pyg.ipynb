{
 "cells": [
  {
   "cell_type": "code",
   "execution_count": 1,
   "metadata": {},
   "outputs": [
    {
     "name": "stderr",
     "output_type": "stream",
     "text": [
      "c:\\Users\\Frank\\AppData\\Local\\Programs\\Python\\Python311\\Lib\\site-packages\\tqdm\\auto.py:21: TqdmWarning: IProgress not found. Please update jupyter and ipywidgets. See https://ipywidgets.readthedocs.io/en/stable/user_install.html\n",
      "  from .autonotebook import tqdm as notebook_tqdm\n"
     ]
    }
   ],
   "source": [
    "import transformers as t\n",
    "import datasets\n",
    "from datasets import load_dataset\n",
    "\n",
    "import torch\n",
    "import torch_geometric\n",
    "\n",
    "import numpy as np\n",
    "import pandas as pd\n",
    "\n",
    "import spacy"
   ]
  },
  {
   "cell_type": "code",
   "execution_count": 2,
   "metadata": {},
   "outputs": [
    {
     "name": "stderr",
     "output_type": "stream",
     "text": [
      "Downloading readme: 100%|██████████| 533/533 [00:00<00:00, 267kB/s]\n"
     ]
    },
    {
     "name": "stdout",
     "output_type": "stream",
     "text": [
      "Downloading and preparing dataset None/None to C:/Users/Frank/.cache/huggingface/datasets/FranklinWillemen___parquet/FranklinWillemen--mapa_plus-c0194439d18f82fc/0.0.0/2a3b91fbd88a2c90d1dbbb32b460cf621d31bd5b05b934492fdef7d8d6f236ec...\n"
     ]
    },
    {
     "name": "stderr",
     "output_type": "stream",
     "text": [
      "Downloading data: 100%|██████████| 256k/256k [00:00<00:00, 884kB/s]\n",
      "Downloading data: 100%|██████████| 554k/554k [00:00<00:00, 1.36MB/s]]\n",
      "Downloading data: 100%|██████████| 1.53M/1.53M [00:00<00:00, 2.15MB/s]\n",
      "Downloading data files: 100%|██████████| 3/3 [00:05<00:00,  1.68s/it]\n",
      "Extracting data files: 100%|██████████| 3/3 [00:00<00:00, 217.28it/s]\n",
      "                                                                            \r"
     ]
    },
    {
     "name": "stdout",
     "output_type": "stream",
     "text": [
      "Dataset parquet downloaded and prepared to C:/Users/Frank/.cache/huggingface/datasets/FranklinWillemen___parquet/FranklinWillemen--mapa_plus-c0194439d18f82fc/0.0.0/2a3b91fbd88a2c90d1dbbb32b460cf621d31bd5b05b934492fdef7d8d6f236ec. Subsequent calls will reuse this data.\n"
     ]
    },
    {
     "name": "stderr",
     "output_type": "stream",
     "text": [
      "100%|██████████| 3/3 [00:00<00:00, 115.70it/s]\n"
     ]
    }
   ],
   "source": [
    "dataset = load_dataset(\"FranklinWillemen/mapa_plus\")"
   ]
  },
  {
   "cell_type": "code",
   "execution_count": 3,
   "metadata": {},
   "outputs": [
    {
     "data": {
      "text/plain": [
       "DatasetDict({\n",
       "    validation: Dataset({\n",
       "        features: ['language', 'tokens', 'coarse_grained', 'fine_grained', 'pos', 'dep'],\n",
       "        num_rows: 1040\n",
       "    })\n",
       "    test: Dataset({\n",
       "        features: ['language', 'tokens', 'coarse_grained', 'fine_grained', 'pos', 'dep'],\n",
       "        num_rows: 3081\n",
       "    })\n",
       "    train: Dataset({\n",
       "        features: ['language', 'tokens', 'coarse_grained', 'fine_grained', 'pos', 'dep'],\n",
       "        num_rows: 8341\n",
       "    })\n",
       "})"
      ]
     },
     "execution_count": 3,
     "metadata": {},
     "output_type": "execute_result"
    }
   ],
   "source": [
    "dataset"
   ]
  },
  {
   "cell_type": "code",
   "execution_count": 4,
   "metadata": {},
   "outputs": [],
   "source": [
    "df_train = pd.DataFrame(dataset[\"train\"])"
   ]
  },
  {
   "cell_type": "code",
   "execution_count": 5,
   "metadata": {},
   "outputs": [
    {
     "data": {
      "text/html": [
       "<div>\n",
       "<style scoped>\n",
       "    .dataframe tbody tr th:only-of-type {\n",
       "        vertical-align: middle;\n",
       "    }\n",
       "\n",
       "    .dataframe tbody tr th {\n",
       "        vertical-align: top;\n",
       "    }\n",
       "\n",
       "    .dataframe thead th {\n",
       "        text-align: right;\n",
       "    }\n",
       "</style>\n",
       "<table border=\"1\" class=\"dataframe\">\n",
       "  <thead>\n",
       "    <tr style=\"text-align: right;\">\n",
       "      <th></th>\n",
       "      <th>language</th>\n",
       "      <th>tokens</th>\n",
       "      <th>coarse_grained</th>\n",
       "      <th>fine_grained</th>\n",
       "      <th>pos</th>\n",
       "      <th>dep</th>\n",
       "    </tr>\n",
       "  </thead>\n",
       "  <tbody>\n",
       "    <tr>\n",
       "      <th>0</th>\n",
       "      <td>de</td>\n",
       "      <td>[Vorabentscheidungsersuchen, der, Rechtbank, A...</td>\n",
       "      <td>[O, O, O, B-ADDRESS, I-ADDRESS, I-ADDRESS, I-A...</td>\n",
       "      <td>[O, O, O, B-CITY, O, B-COUNTRY, O, O, O, O, B-...</td>\n",
       "      <td>[NOUN, DET, NOUN, PROPN, PUNCT, PROPN, PUNCT, ...</td>\n",
       "      <td>[sb, nk, ag, nk, punct, app, punct, punct, ROO...</td>\n",
       "    </tr>\n",
       "    <tr>\n",
       "      <th>1</th>\n",
       "      <td>de</td>\n",
       "      <td>[(, Rechtssache, C, -, 314, /, 18, )]</td>\n",
       "      <td>[O, O, O, O, O, O, O, O]</td>\n",
       "      <td>[O, O, O, O, O, O, O, O]</td>\n",
       "      <td>[PUNCT, ADJ, PROPN, PUNCT, NUM, PUNCT, NUM, PU...</td>\n",
       "      <td>[punct, pnc, pnc, punct, pnc, punct, ROOT, punct]</td>\n",
       "    </tr>\n",
       "    <tr>\n",
       "      <th>2</th>\n",
       "      <td>de</td>\n",
       "      <td>[Verfahrenssprache, :, Niederländisch]</td>\n",
       "      <td>[O, O, O]</td>\n",
       "      <td>[O, O, O]</td>\n",
       "      <td>[NOUN, PUNCT, ADV]</td>\n",
       "      <td>[ROOT, punct, ROOT]</td>\n",
       "    </tr>\n",
       "    <tr>\n",
       "      <th>3</th>\n",
       "      <td>de</td>\n",
       "      <td>[Vorlegendes, Gericht]</td>\n",
       "      <td>[O, O]</td>\n",
       "      <td>[O, O]</td>\n",
       "      <td>[ADJ, NOUN]</td>\n",
       "      <td>[ag, ROOT]</td>\n",
       "    </tr>\n",
       "    <tr>\n",
       "      <th>4</th>\n",
       "      <td>de</td>\n",
       "      <td>[Rechtbank, Amsterdam]</td>\n",
       "      <td>[O, B-ADDRESS]</td>\n",
       "      <td>[O, B-CITY]</td>\n",
       "      <td>[PROPN, PROPN]</td>\n",
       "      <td>[pnc, ROOT]</td>\n",
       "    </tr>\n",
       "    <tr>\n",
       "      <th>...</th>\n",
       "      <td>...</td>\n",
       "      <td>...</td>\n",
       "      <td>...</td>\n",
       "      <td>...</td>\n",
       "      <td>...</td>\n",
       "      <td>...</td>\n",
       "    </tr>\n",
       "    <tr>\n",
       "      <th>8336</th>\n",
       "      <td>pt</td>\n",
       "      <td>[–, por, um, lado, ,, uma, igreja, ou, uma, ou...</td>\n",
       "      <td>[O, O, O, O, O, O, O, O, O, O, O, O, O, O, O, ...</td>\n",
       "      <td>[O, O, O, O, O, O, O, O, O, O, O, O, O, O, O, ...</td>\n",
       "      <td>[PRON, ADP, DET, NOUN, PUNCT, DET, NOUN, CCONJ...</td>\n",
       "      <td>[acl, case, det, nmod, punct, det, nsubj, cc, ...</td>\n",
       "    </tr>\n",
       "    <tr>\n",
       "      <th>8337</th>\n",
       "      <td>pt</td>\n",
       "      <td>[–, por, outro, ,, uma, diferença, de, tratame...</td>\n",
       "      <td>[O, O, O, O, O, O, O, O, O, O, O, O, O, O, O, ...</td>\n",
       "      <td>[O, O, O, O, O, O, O, O, O, O, O, O, O, O, O, ...</td>\n",
       "      <td>[PRON, ADP, PRON, PUNCT, DET, NOUN, ADP, NOUN,...</td>\n",
       "      <td>[punct, case, nmod, punct, det, ROOT, case, nm...</td>\n",
       "    </tr>\n",
       "    <tr>\n",
       "      <th>8338</th>\n",
       "      <td>pt</td>\n",
       "      <td>[2, ), Um, órgão, jurisdicional, nacional, que...</td>\n",
       "      <td>[O, O, O, O, O, O, O, O, O, O, O, O, O, O, O, ...</td>\n",
       "      <td>[O, O, O, O, O, O, O, O, O, O, O, O, O, O, O, ...</td>\n",
       "      <td>[NUM, PUNCT, DET, NOUN, NOUN, ADJ, PRON, VERB,...</td>\n",
       "      <td>[ROOT, punct, det, nsubj:pass, amod, amod, nsu...</td>\n",
       "    </tr>\n",
       "    <tr>\n",
       "      <th>8339</th>\n",
       "      <td>pt</td>\n",
       "      <td>[Assinaturas]</td>\n",
       "      <td>[O]</td>\n",
       "      <td>[O]</td>\n",
       "      <td>[NOUN]</td>\n",
       "      <td>[ROOT]</td>\n",
       "    </tr>\n",
       "    <tr>\n",
       "      <th>8340</th>\n",
       "      <td>pt</td>\n",
       "      <td>[*, Língua, do, processo, :, alemão, .]</td>\n",
       "      <td>[O, O, O, O, O, O, O]</td>\n",
       "      <td>[O, O, O, O, O, O, O]</td>\n",
       "      <td>[PUNCT, PROPN, ADP, NOUN, PUNCT, ADJ, PUNCT]</td>\n",
       "      <td>[punct, ROOT, case, nmod, punct, amod, punct]</td>\n",
       "    </tr>\n",
       "  </tbody>\n",
       "</table>\n",
       "<p>8341 rows × 6 columns</p>\n",
       "</div>"
      ],
      "text/plain": [
       "     language                                             tokens   \n",
       "0          de  [Vorabentscheidungsersuchen, der, Rechtbank, A...  \\\n",
       "1          de              [(, Rechtssache, C, -, 314, /, 18, )]   \n",
       "2          de             [Verfahrenssprache, :, Niederländisch]   \n",
       "3          de                             [Vorlegendes, Gericht]   \n",
       "4          de                             [Rechtbank, Amsterdam]   \n",
       "...       ...                                                ...   \n",
       "8336       pt  [–, por, um, lado, ,, uma, igreja, ou, uma, ou...   \n",
       "8337       pt  [–, por, outro, ,, uma, diferença, de, tratame...   \n",
       "8338       pt  [2, ), Um, órgão, jurisdicional, nacional, que...   \n",
       "8339       pt                                      [Assinaturas]   \n",
       "8340       pt            [*, Língua, do, processo, :, alemão, .]   \n",
       "\n",
       "                                         coarse_grained   \n",
       "0     [O, O, O, B-ADDRESS, I-ADDRESS, I-ADDRESS, I-A...  \\\n",
       "1                              [O, O, O, O, O, O, O, O]   \n",
       "2                                             [O, O, O]   \n",
       "3                                                [O, O]   \n",
       "4                                        [O, B-ADDRESS]   \n",
       "...                                                 ...   \n",
       "8336  [O, O, O, O, O, O, O, O, O, O, O, O, O, O, O, ...   \n",
       "8337  [O, O, O, O, O, O, O, O, O, O, O, O, O, O, O, ...   \n",
       "8338  [O, O, O, O, O, O, O, O, O, O, O, O, O, O, O, ...   \n",
       "8339                                                [O]   \n",
       "8340                              [O, O, O, O, O, O, O]   \n",
       "\n",
       "                                           fine_grained   \n",
       "0     [O, O, O, B-CITY, O, B-COUNTRY, O, O, O, O, B-...  \\\n",
       "1                              [O, O, O, O, O, O, O, O]   \n",
       "2                                             [O, O, O]   \n",
       "3                                                [O, O]   \n",
       "4                                           [O, B-CITY]   \n",
       "...                                                 ...   \n",
       "8336  [O, O, O, O, O, O, O, O, O, O, O, O, O, O, O, ...   \n",
       "8337  [O, O, O, O, O, O, O, O, O, O, O, O, O, O, O, ...   \n",
       "8338  [O, O, O, O, O, O, O, O, O, O, O, O, O, O, O, ...   \n",
       "8339                                                [O]   \n",
       "8340                              [O, O, O, O, O, O, O]   \n",
       "\n",
       "                                                    pos   \n",
       "0     [NOUN, DET, NOUN, PROPN, PUNCT, PROPN, PUNCT, ...  \\\n",
       "1     [PUNCT, ADJ, PROPN, PUNCT, NUM, PUNCT, NUM, PU...   \n",
       "2                                    [NOUN, PUNCT, ADV]   \n",
       "3                                           [ADJ, NOUN]   \n",
       "4                                        [PROPN, PROPN]   \n",
       "...                                                 ...   \n",
       "8336  [PRON, ADP, DET, NOUN, PUNCT, DET, NOUN, CCONJ...   \n",
       "8337  [PRON, ADP, PRON, PUNCT, DET, NOUN, ADP, NOUN,...   \n",
       "8338  [NUM, PUNCT, DET, NOUN, NOUN, ADJ, PRON, VERB,...   \n",
       "8339                                             [NOUN]   \n",
       "8340       [PUNCT, PROPN, ADP, NOUN, PUNCT, ADJ, PUNCT]   \n",
       "\n",
       "                                                    dep  \n",
       "0     [sb, nk, ag, nk, punct, app, punct, punct, ROO...  \n",
       "1     [punct, pnc, pnc, punct, pnc, punct, ROOT, punct]  \n",
       "2                                   [ROOT, punct, ROOT]  \n",
       "3                                            [ag, ROOT]  \n",
       "4                                           [pnc, ROOT]  \n",
       "...                                                 ...  \n",
       "8336  [acl, case, det, nmod, punct, det, nsubj, cc, ...  \n",
       "8337  [punct, case, nmod, punct, det, ROOT, case, nm...  \n",
       "8338  [ROOT, punct, det, nsubj:pass, amod, amod, nsu...  \n",
       "8339                                             [ROOT]  \n",
       "8340      [punct, ROOT, case, nmod, punct, amod, punct]  \n",
       "\n",
       "[8341 rows x 6 columns]"
      ]
     },
     "execution_count": 5,
     "metadata": {},
     "output_type": "execute_result"
    }
   ],
   "source": [
    "df_train"
   ]
  },
  {
   "cell_type": "code",
   "execution_count": null,
   "metadata": {},
   "outputs": [],
   "source": []
  }
 ],
 "metadata": {
  "kernelspec": {
   "display_name": "Python 3",
   "language": "python",
   "name": "python3"
  },
  "language_info": {
   "codemirror_mode": {
    "name": "ipython",
    "version": 3
   },
   "file_extension": ".py",
   "mimetype": "text/x-python",
   "name": "python",
   "nbconvert_exporter": "python",
   "pygments_lexer": "ipython3",
   "version": "3.11.3"
  },
  "orig_nbformat": 4
 },
 "nbformat": 4,
 "nbformat_minor": 2
}
