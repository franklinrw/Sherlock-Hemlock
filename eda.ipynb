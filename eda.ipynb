{
 "cells": [
  {
   "cell_type": "code",
   "execution_count": 1,
   "metadata": {},
   "outputs": [
    {
     "name": "stderr",
     "output_type": "stream",
     "text": [
      "c:\\Users\\Frank\\AppData\\Local\\Programs\\Python\\Python311\\Lib\\site-packages\\tqdm\\auto.py:21: TqdmWarning: IProgress not found. Please update jupyter and ipywidgets. See https://ipywidgets.readthedocs.io/en/stable/user_install.html\n",
      "  from .autonotebook import tqdm as notebook_tqdm\n"
     ]
    }
   ],
   "source": [
    "import transformers as t\n",
    "import datasets\n",
    "from datasets import load_dataset\n",
    "\n",
    "import torch\n",
    "import torch_geometric\n",
    "from torch_geometric.data import Data\n",
    "\n",
    "import numpy as np\n",
    "import pandas as pd\n",
    "\n",
    "import spacy\n",
    "\n",
    "from sklearn.preprocessing import LabelEncoder"
   ]
  },
  {
   "cell_type": "code",
   "execution_count": 16,
   "metadata": {},
   "outputs": [
    {
     "name": "stderr",
     "output_type": "stream",
     "text": [
      "Found cached dataset csv (C:/Users/Frank/.cache/huggingface/datasets/maastrichtlawtech___csv/maastrichtlawtech--bsard-d4b4993551724e5a/0.0.0/6954658bab30a358235fa864b05cf819af0e179325c740e4bc853bcc7ec513e1)\n",
      "Found cached dataset csv (C:/Users/Frank/.cache/huggingface/datasets/maastrichtlawtech___csv/maastrichtlawtech--bsard-41a15be090989dc9/0.0.0/6954658bab30a358235fa864b05cf819af0e179325c740e4bc853bcc7ec513e1)\n",
      "Found cached dataset csv (C:/Users/Frank/.cache/huggingface/datasets/maastrichtlawtech___csv/maastrichtlawtech--bsard-1ac8feb008d877a3/0.0.0/6954658bab30a358235fa864b05cf819af0e179325c740e4bc853bcc7ec513e1)\n"
     ]
    }
   ],
   "source": [
    "q_train = load_dataset(\"maastrichtlawtech/bsard\", data_files=\"questions_fr_train.csv\", split=\"train\")\n",
    "q_test = load_dataset(\"maastrichtlawtech/bsard\", data_files=\"questions_fr_test.csv\", split=\"train\")\n",
    "articles = load_dataset(\"maastrichtlawtech/bsard\", data_files=\"articles_fr.csv\", split=\"train\")"
   ]
  },
  {
   "cell_type": "code",
   "execution_count": 26,
   "metadata": {},
   "outputs": [
    {
     "data": {
      "text/plain": [
       "\"Dans les quinze jours du prononcé, le greffier notifie le dispositif du jugement aux parties par pli judiciaire. Le délai d'appel est de deux mois à dater de cette notification. L'appel est formé par requête à la chambre de la famille de lacour d'appel. II doit, à peine de nullité, être dénoncé par exploit d'huissier ou par lettre recommandée dans les huit jours à dater de la réception de la requête, au greffe du tribunal de première instancequi a rendu la décision attaquée. Le greffier fait mention du recours en marge de la décision attaquée. Les règles prévues pour la première instance s'appliquent au degré d'appel.L'arrêt est notifié par le greffier de la cour d'appel conformément à ce qui est prévu pour la première instance. Le délai pour se pourvoir en cassation est d'un mois à dater de cette notification.Le délai pour se pourvoir en cassation et le pourvoi contre l'arrêt constatant le décès sont suspensifs.\""
      ]
     },
     "execution_count": 26,
     "metadata": {},
     "output_type": "execute_result"
    }
   ],
   "source": [
    "articles[1000][\"article\"]"
   ]
  },
  {
   "cell_type": "code",
   "execution_count": 15,
   "metadata": {},
   "outputs": [
    {
     "data": {
      "text/plain": [
       "DatasetDict({\n",
       "    train: Dataset({\n",
       "        features: ['id', 'category', 'subcategory', 'question', 'extra_description', 'article_ids'],\n",
       "        num_rows: 886\n",
       "    })\n",
       "})"
      ]
     },
     "execution_count": 15,
     "metadata": {},
     "output_type": "execute_result"
    }
   ],
   "source": [
    "q_train"
   ]
  },
  {
   "cell_type": "code",
   "execution_count": null,
   "metadata": {},
   "outputs": [],
   "source": []
  },
  {
   "cell_type": "code",
   "execution_count": 20,
   "metadata": {},
   "outputs": [
    {
     "name": "stderr",
     "output_type": "stream",
     "text": [
      "Found cached dataset parquet (C:/Users/Frank/.cache/huggingface/datasets/FranklinWillemen___parquet/FranklinWillemen--mapa_plus-4bbc20eeb61798b9/0.0.0/2a3b91fbd88a2c90d1dbbb32b460cf621d31bd5b05b934492fdef7d8d6f236ec)\n",
      "100%|██████████| 3/3 [00:00<00:00, 602.80it/s]\n"
     ]
    }
   ],
   "source": [
    "dataset = load_dataset(\"FranklinWillemen/mapa_plus\")\n",
    "df_train = pd.DataFrame(dataset[\"train\"])\n",
    "df_val = pd.DataFrame(dataset[\"validation\"])\n",
    "df_test = pd.DataFrame(dataset[\"test\"])"
   ]
  },
  {
   "cell_type": "code",
   "execution_count": 24,
   "metadata": {},
   "outputs": [
    {
     "data": {
      "text/plain": [
       "'A la luz de las consideraciones anteriores , propongo al Tribunal de Justicia que responda a las cuestiones prejudiciales planteadas por la Corte suprema di cassazione ( Tribunal Supremo de Casación , Italia ) del siguiente modo : « El artículo 35 , apartado 3 , del Reglamento ( CE ) n.o 44 / 2001 del Consejo , de 22 de diciembre de 2000 , relativo a la competencia judicial , el reconocimiento y la ejecución de resoluciones judiciales en materia civil y mercantil , y el artículo 24 del Reglamento ( CE ) n.o 2201 / 2003 del Consejo , de 27 de noviembre de 2003 , relativo a la competencia , el reconocimiento y la ejecución de resoluciones judiciales en materia matrimonial y de responsabilidad parental , por el que se deroga el Reglamento ( CE ) n.o 1347 / 2000 , deben interpretarse en el sentido de que prohíben que la infracción de las normas de litispendencia , previstas en el artículo 27 del Reglamento n.o 44 / 2001 y en el artículo 19 del Reglamento n.o 2201 / 2003 , por parte del órgano jurisdiccional ante el que se interpuso la segunda demanda constituya un motivo de denegación del reconocimiento de la resolución dictada por este , basado en la contrariedad con el orden público del Estado miembro requerido . » 1 Lengua original : francés . 2 DO 2003 , L 338 , p . 1 . 3 C ‑ 455 / 15 PPU ; en lo sucesivo , « sentencia P » , EU : 4 Por lo que se refiere a la necesidad de remitirse a este Reglamento , véanse los puntos 43 y 44 de las presentes conclusiones . 5 DO 2001 , L 12 , p . 1 . 6 GURI n.o 306 , de 3 de diciembre de 1970 , p . 8046 . 7 En la sentencia firme n.o 1072 , dictada por la Curtea de Apel București ( Tribunal Superior de Bucarest , Rumanía ) , Sala Tercera de lo Civil de Menores y Familia , de 12 de junio de 2013 , anexa a la resolución de remisión y presentada por el Sr .'"
      ]
     },
     "execution_count": 24,
     "metadata": {},
     "output_type": "execute_result"
    }
   ],
   "source": [
    "\" \".join(df_train['tokens'][3000])"
   ]
  },
  {
   "cell_type": "code",
   "execution_count": null,
   "metadata": {},
   "outputs": [],
   "source": []
  }
 ],
 "metadata": {
  "kernelspec": {
   "display_name": "Python 3",
   "language": "python",
   "name": "python3"
  },
  "language_info": {
   "codemirror_mode": {
    "name": "ipython",
    "version": 3
   },
   "file_extension": ".py",
   "mimetype": "text/x-python",
   "name": "python",
   "nbconvert_exporter": "python",
   "pygments_lexer": "ipython3",
   "version": "3.11.3"
  },
  "orig_nbformat": 4
 },
 "nbformat": 4,
 "nbformat_minor": 2
}
