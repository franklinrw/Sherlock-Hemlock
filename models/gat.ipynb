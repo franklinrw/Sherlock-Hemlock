{
 "cells": [
  {
   "cell_type": "code",
   "execution_count": 44,
   "metadata": {},
   "outputs": [],
   "source": [
    "import torch\n",
    "import torch.nn.functional as F\n",
    "from torch_geometric.data import DataLoader\n",
    "from torch_geometric.nn import GATConv\n",
    "from torch_geometric.data import Batch\n",
    "\n",
    "\n",
    "from sklearn.model_selection import train_test_split"
   ]
  },
  {
   "cell_type": "code",
   "execution_count": 36,
   "metadata": {},
   "outputs": [],
   "source": [
    "def split_questions(questions, train_ratio=0.8, val_ratio=0.1):\n",
    "    stratify_labels = [q.y[:, 0].item() if q.y.dim() > 1 else q.y.item() for q in questions]\n",
    "    \n",
    "    try:\n",
    "        train_questions, test_questions = train_test_split(questions, test_size=1 - train_ratio, random_state=42, stratify=stratify_labels)\n",
    "    except ValueError:\n",
    "        print(\"Stratification not possible, splitting without stratification.\")\n",
    "        train_questions, test_questions = train_test_split(questions, test_size=1 - train_ratio, random_state=42, stratify=None)\n",
    "    \n",
    "    val_ratio_adjusted = val_ratio / (1 - train_ratio)\n",
    "    \n",
    "    try:\n",
    "        train_questions, val_questions = train_test_split(train_questions, test_size=val_ratio_adjusted, random_state=42, stratify=[q.y[:, 0].item() if q.y.dim() > 1 else q.y.item() for q in train_questions])\n",
    "    except ValueError:\n",
    "        print(\"Stratification not possible, splitting without stratification.\")\n",
    "        train_questions, val_questions = train_test_split(train_questions, test_size=val_ratio_adjusted, random_state=42, stratify=None)\n",
    "\n",
    "    return train_questions, val_questions, test_questions"
   ]
  },
  {
   "cell_type": "code",
   "execution_count": 16,
   "metadata": {},
   "outputs": [],
   "source": [
    "q_test_graphs = torch.load('../../local_datasets/bsard_extra/q_test_graphs.pt')\n",
    "q_train_graphs = torch.load('../../local_datasets/bsard_extra/q_train_graphs.pt')\n",
    "q_synth_graphs = torch.load('../../local_datasets/bsard_extra/q_synth_graphs.pt')\n",
    "articles_graphs = torch.load('../../local_datasets/bsard_extra/article_graphs.pt')"
   ]
  },
  {
   "cell_type": "code",
   "execution_count": 19,
   "metadata": {},
   "outputs": [],
   "source": [
    "expert_questions = q_train_graphs + q_test_graphs"
   ]
  },
  {
   "cell_type": "code",
   "execution_count": 37,
   "metadata": {},
   "outputs": [
    {
     "name": "stdout",
     "output_type": "stream",
     "text": [
      "Stratification not possible, splitting without stratification.\n",
      "Stratification not possible, splitting without stratification.\n"
     ]
    },
    {
     "name": "stderr",
     "output_type": "stream",
     "text": [
      "c:\\Users\\Frank\\AppData\\Local\\Programs\\Python\\Python311\\Lib\\site-packages\\torch_geometric\\deprecation.py:22: UserWarning: 'data.DataLoader' is deprecated, use 'loader.DataLoader' instead\n",
      "  warnings.warn(out)\n"
     ]
    }
   ],
   "source": [
    "# Load and split datasets\n",
    "expert_train, expert_val, expert_test = split_questions(expert_questions)\n",
    "synthetic_train, synthetic_val, synthetic_test = split_questions(q_synth_graphs)\n",
    "\n",
    "# Create PyTorch DataLoaders for synthetic dataset\n",
    "synthetic_train_loader = DataLoader(synthetic_train, batch_size=32, shuffle=True)\n",
    "synthetic_val_loader = DataLoader(synthetic_val, batch_size=32, shuffle=False)\n",
    "\n",
    "# Create PyTorch DataLoaders for expert-annotated dataset\n",
    "expert_train_loader = DataLoader(expert_train, batch_size=32, shuffle=True)\n",
    "expert_val_loader = DataLoader(expert_val, batch_size=32, shuffle=False)"
   ]
  },
  {
   "cell_type": "code",
   "execution_count": 63,
   "metadata": {},
   "outputs": [],
   "source": [
    "# Define GAT model\n",
    "class GAT(torch.nn.Module):\n",
    "    def __init__(self, in_channels, out_channels):\n",
    "        super(GAT, self).__init__()\n",
    "        self.conv1 = GATConv(in_channels, 64, heads=8, dropout=0.6)\n",
    "        self.conv2 = GATConv(64 * 8, out_channels, heads=1, concat=True, dropout=0.6)\n",
    "\n",
    "    def forward(self, data):\n",
    "        x, edge_index = data.x, data.edge_index\n",
    "        x = F.dropout(x, p=0.6, training=self.training)\n",
    "        x = F.elu(self.conv1(x, edge_index))\n",
    "        x = F.dropout(x, p=0.6, training=self.training)\n",
    "        x = self.conv2(x, edge_index)\n",
    "        return x\n",
    "    \n",
    "def compute_loss(similarity_matrix, y, article_sizes):\n",
    "    # Filter out article labels that don't exist in current batch\n",
    "    unique_labels = torch.unique(y)\n",
    "    print(len(unique_labels))\n",
    "    article_sizes = [article_sizes[label] for label in unique_labels]\n",
    "    print(article_sizes)\n",
    "    y = torch.tensor([unique_labels.tolist().index(label.item()) for label in y])\n",
    "\n",
    "    pos_indices = []\n",
    "    pos_similarities = []\n",
    "    for i, label in enumerate(y):\n",
    "        start_index = sum(article_sizes[:label])\n",
    "        end_index = start_index + article_sizes[label]\n",
    "        pos_indices.extend(list(range(start_index, end_index)))\n",
    "        pos_similarities.extend([similarity_matrix[i, j] for j in range(start_index, end_index)])\n",
    "\n",
    "    # Sample negatives with negative sampling\n",
    "    neg_indices = torch.ones_like(similarity_matrix, dtype=torch.bool)\n",
    "    neg_indices[torch.arange(y.size(0)), pos_indices] = 0\n",
    "    neg_similarities = similarity_matrix[neg_indices].view(y.size(0), -1)\n",
    "\n",
    "    # Compute loss\n",
    "    loss = torch.clamp(neg_similarities - pos_similarities.view(-1, 1) + 1, min=0).mean()\n",
    "    return loss"
   ]
  },
  {
   "cell_type": "code",
   "execution_count": 64,
   "metadata": {},
   "outputs": [],
   "source": [
    "num_features = synthetic_train[0].x.shape[1]\n",
    "num_classes = len(articles_graphs)\n",
    "device = torch.device('cuda' if torch.cuda.is_available() else 'cpu')\n",
    "\n",
    "model = GAT(num_features, num_classes).to(device)\n",
    "optimizer = torch.optim.Adam(model.parameters(), lr=0.005, weight_decay=5e-4)\n",
    "\n",
    "# def train():\n",
    "#     model.train()\n",
    "#     total_loss = 0\n",
    "#     for data in train_loader:\n",
    "#         data = data.to(device)\n",
    "#         optimizer.zero_grad()\n",
    "#         out = model(data)\n",
    "#         loss = F.nll_loss(out, data.y)\n",
    "#         loss.backward()\n",
    "#         optimizer.step()\n",
    "#         total_loss += loss.item()\n",
    "#     return total_loss / len(train_loader)\n",
    "\n",
    "# def validate():\n",
    "#     model.eval()\n",
    "#     total_loss = 0\n",
    "#     for data in val_loader:\n",
    "#         data = data.to(device)\n",
    "#         out = model(data)\n",
    "#         loss = F.nll_loss(out, data.y)\n",
    "#         total_loss += loss.item()\n",
    "#     return total_loss / len(val_loader)\n",
    "\n",
    "# for epoch in range(1, 201):\n",
    "#     train_loss = train()\n",
    "#     val_loss = validate()\n",
    "#     print('Epoch: {:03d}, Train Loss: {:.5f}, Validation Loss: {:.5f}'.format(epoch, train_loss, val_loss))\n",
    "\n",
    "def train(loader, articles_graphs):\n",
    "    model.train()\n",
    "\n",
    "    total_loss = 0\n",
    "\n",
    "    for batch in loader:\n",
    "        optimizer.zero_grad()\n",
    "        batch = batch.to(device)\n",
    "\n",
    "        # Compute question embeddings\n",
    "        question_embeddings = model(batch)\n",
    "\n",
    "        # Compute article embeddings\n",
    "        article_embeddings = []\n",
    "        article_sizes = []\n",
    "        for idx in torch.unique(batch.y).tolist():\n",
    "            article = articles_graphs[idx].to(device)\n",
    "            article_embedding = model(article)\n",
    "            article_embeddings.append(article_embedding)\n",
    "            article_sizes.append(article_embedding.size(0))\n",
    "\n",
    "        # Concatenate article embeddings\n",
    "        article_embeddings = torch.cat(article_embeddings, dim=0)\n",
    "\n",
    "        # Compute similarity scores\n",
    "        similarity_matrix = torch.matmul(question_embeddings, article_embeddings.t())\n",
    "\n",
    "        print(len(article_sizes))\n",
    "        # Compute loss and update model\n",
    "        loss = compute_loss(similarity_matrix, batch.y, article_sizes)\n",
    "        loss.backward()\n",
    "        optimizer.step()\n",
    "        total_loss += loss.item()\n",
    "\n",
    "    return total_loss / len(loader)"
   ]
  },
  {
   "cell_type": "code",
   "execution_count": 65,
   "metadata": {},
   "outputs": [
    {
     "name": "stdout",
     "output_type": "stream",
     "text": [
      "32\n",
      "32\n"
     ]
    },
    {
     "ename": "IndexError",
     "evalue": "list index out of range",
     "output_type": "error",
     "traceback": [
      "\u001b[1;31m---------------------------------------------------------------------------\u001b[0m",
      "\u001b[1;31mIndexError\u001b[0m                                Traceback (most recent call last)",
      "Cell \u001b[1;32mIn[65], line 2\u001b[0m\n\u001b[0;32m      1\u001b[0m \u001b[39mfor\u001b[39;00m epoch \u001b[39min\u001b[39;00m \u001b[39mrange\u001b[39m(\u001b[39m2\u001b[39m):\n\u001b[1;32m----> 2\u001b[0m     loss \u001b[39m=\u001b[39m train(synthetic_train_loader, articles_graphs)\n\u001b[0;32m      3\u001b[0m     \u001b[39mprint\u001b[39m(\u001b[39mf\u001b[39m\u001b[39m\"\u001b[39m\u001b[39mEpoch: \u001b[39m\u001b[39m{\u001b[39;00mepoch\u001b[39m+\u001b[39m\u001b[39m1\u001b[39m\u001b[39m}\u001b[39;00m\u001b[39m, Loss: \u001b[39m\u001b[39m{\u001b[39;00mloss\u001b[39m:\u001b[39;00m\u001b[39m.4f\u001b[39m\u001b[39m}\u001b[39;00m\u001b[39m\"\u001b[39m)\n",
      "Cell \u001b[1;32mIn[64], line 65\u001b[0m, in \u001b[0;36mtrain\u001b[1;34m(loader, articles_graphs)\u001b[0m\n\u001b[0;32m     63\u001b[0m \u001b[39mprint\u001b[39m(\u001b[39mlen\u001b[39m(article_sizes))\n\u001b[0;32m     64\u001b[0m \u001b[39m# Compute loss and update model\u001b[39;00m\n\u001b[1;32m---> 65\u001b[0m loss \u001b[39m=\u001b[39m compute_loss(similarity_matrix, batch\u001b[39m.\u001b[39;49my, article_sizes)\n\u001b[0;32m     66\u001b[0m loss\u001b[39m.\u001b[39mbackward()\n\u001b[0;32m     67\u001b[0m optimizer\u001b[39m.\u001b[39mstep()\n",
      "Cell \u001b[1;32mIn[63], line 20\u001b[0m, in \u001b[0;36mcompute_loss\u001b[1;34m(similarity_matrix, y, article_sizes)\u001b[0m\n\u001b[0;32m     18\u001b[0m unique_labels \u001b[39m=\u001b[39m torch\u001b[39m.\u001b[39munique(y)\n\u001b[0;32m     19\u001b[0m \u001b[39mprint\u001b[39m(\u001b[39mlen\u001b[39m(unique_labels))\n\u001b[1;32m---> 20\u001b[0m article_sizes \u001b[39m=\u001b[39m [article_sizes[label] \u001b[39mfor\u001b[39;49;00m label \u001b[39min\u001b[39;49;00m unique_labels]\n\u001b[0;32m     21\u001b[0m \u001b[39mprint\u001b[39m(article_sizes)\n\u001b[0;32m     22\u001b[0m y \u001b[39m=\u001b[39m torch\u001b[39m.\u001b[39mtensor([unique_labels\u001b[39m.\u001b[39mtolist()\u001b[39m.\u001b[39mindex(label\u001b[39m.\u001b[39mitem()) \u001b[39mfor\u001b[39;00m label \u001b[39min\u001b[39;00m y])\n",
      "Cell \u001b[1;32mIn[63], line 20\u001b[0m, in \u001b[0;36m<listcomp>\u001b[1;34m(.0)\u001b[0m\n\u001b[0;32m     18\u001b[0m unique_labels \u001b[39m=\u001b[39m torch\u001b[39m.\u001b[39munique(y)\n\u001b[0;32m     19\u001b[0m \u001b[39mprint\u001b[39m(\u001b[39mlen\u001b[39m(unique_labels))\n\u001b[1;32m---> 20\u001b[0m article_sizes \u001b[39m=\u001b[39m [article_sizes[label] \u001b[39mfor\u001b[39;00m label \u001b[39min\u001b[39;00m unique_labels]\n\u001b[0;32m     21\u001b[0m \u001b[39mprint\u001b[39m(article_sizes)\n\u001b[0;32m     22\u001b[0m y \u001b[39m=\u001b[39m torch\u001b[39m.\u001b[39mtensor([unique_labels\u001b[39m.\u001b[39mtolist()\u001b[39m.\u001b[39mindex(label\u001b[39m.\u001b[39mitem()) \u001b[39mfor\u001b[39;00m label \u001b[39min\u001b[39;00m y])\n",
      "\u001b[1;31mIndexError\u001b[0m: list index out of range"
     ]
    }
   ],
   "source": [
    "for epoch in range(2):\n",
    "    loss = train(synthetic_train_loader, articles_graphs)\n",
    "    print(f\"Epoch: {epoch+1}, Loss: {loss:.4f}\")"
   ]
  },
  {
   "cell_type": "code",
   "execution_count": null,
   "metadata": {},
   "outputs": [],
   "source": []
  }
 ],
 "metadata": {
  "kernelspec": {
   "display_name": "Python 3",
   "language": "python",
   "name": "python3"
  },
  "language_info": {
   "codemirror_mode": {
    "name": "ipython",
    "version": 3
   },
   "file_extension": ".py",
   "mimetype": "text/x-python",
   "name": "python",
   "nbconvert_exporter": "python",
   "pygments_lexer": "ipython3",
   "version": "3.11.3"
  },
  "orig_nbformat": 4
 },
 "nbformat": 4,
 "nbformat_minor": 2
}
