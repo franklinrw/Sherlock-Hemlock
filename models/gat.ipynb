{
 "cells": [
  {
   "cell_type": "code",
   "execution_count": 1,
   "metadata": {},
   "outputs": [
    {
     "name": "stderr",
     "output_type": "stream",
     "text": [
      "c:\\Users\\Frank\\AppData\\Local\\Programs\\Python\\Python311\\Lib\\site-packages\\tqdm\\auto.py:21: TqdmWarning: IProgress not found. Please update jupyter and ipywidgets. See https://ipywidgets.readthedocs.io/en/stable/user_install.html\n",
      "  from .autonotebook import tqdm as notebook_tqdm\n"
     ]
    }
   ],
   "source": [
    "import torch\n",
    "import torch.nn.functional as F\n",
    "from torch_geometric.data import DataLoader\n",
    "from torch_geometric.nn import GATConv"
   ]
  },
  {
   "cell_type": "code",
   "execution_count": null,
   "metadata": {},
   "outputs": [],
   "source": [
    "# Load and split datasets\n",
    "expert_train, expert_val, expert_test = split_expert_questions(question_train_and_test)\n",
    "synthetic_train, synthetic_val, synthetic_test = split_synthetic_questions(question_synthetic)\n",
    "\n",
    "train_dataset = expert_train + synthetic_train\n",
    "val_dataset = expert_val + synthetic_val\n",
    "test_dataset = expert_test + synthetic_test\n",
    "\n",
    "train_loader = DataLoader(train_dataset, batch_size=32, shuffle=True)\n",
    "val_loader = DataLoader(val_dataset, batch_size=32, shuffle=False)\n",
    "test_loader = DataLoader(test_dataset, batch_size=32, shuffle=False)"
   ]
  },
  {
   "cell_type": "code",
   "execution_count": 4,
   "metadata": {},
   "outputs": [],
   "source": [
    "# Define GAT model\n",
    "class GAT(torch.nn.Module):\n",
    "    def __init__(self, in_channels, out_channels):\n",
    "        super(GAT, self).__init__()\n",
    "        self.conv1 = GATConv(in_channels, 32, heads=8, dropout=0.6)\n",
    "        self.conv2 = GATConv(32 * 8, out_channels, heads=1, concat=True, dropout=0.6)\n",
    "\n",
    "    def forward(self, data):\n",
    "        x, edge_index = data.x, data.edge_index\n",
    "        x = F.dropout(x, p=0.6, training=self.training)\n",
    "        x = F.elu(self.conv1(x, edge_index))\n",
    "        x = F.dropout(x, p=0.6, training=self.training)\n",
    "        x = self.conv2(x, edge_index)\n",
    "        return x"
   ]
  },
  {
   "cell_type": "code",
   "execution_count": null,
   "metadata": {},
   "outputs": [],
   "source": [
    "device = torch.device('cuda' if torch.cuda.is_available() else 'cpu')\n",
    "model = GAT(in_channels=301, out_channels=128).to(device)\n",
    "optimizer = torch.optim.Adam(model.parameters(), lr=0.005, weight_decay=5e-4)\n",
    "\n",
    "# def train():\n",
    "#     model.train()\n",
    "#     total_loss = 0\n",
    "#     for data in train_loader:\n",
    "#         data = data.to(device)\n",
    "#         optimizer.zero_grad()\n",
    "#         out = model(data)\n",
    "#         loss = F.nll_loss(out, data.y)\n",
    "#         loss.backward()\n",
    "#         optimizer.step()\n",
    "#         total_loss += loss.item()\n",
    "#     return total_loss / len(train_loader)\n",
    "\n",
    "# def validate():\n",
    "#     model.eval()\n",
    "#     total_loss = 0\n",
    "#     for data in val_loader:\n",
    "#         data = data.to(device)\n",
    "#         out = model(data)\n",
    "#         loss = F.nll_loss(out, data.y)\n",
    "#         total_loss += loss.item()\n",
    "#     return total_loss / len(val_loader)\n",
    "\n",
    "# for epoch in range(1, 201):\n",
    "#     train_loss = train()\n",
    "#     val_loss = validate()\n",
    "#     print('Epoch: {:03d}, Train Loss: {:.5f}, Validation Loss: {:.5f}'.format(epoch, train_loss, val_loss))\n",
    "\n",
    "def train(loader, articles_graphs):\n",
    "    model.train()\n",
    "\n",
    "    total_loss = 0\n",
    "\n",
    "    for batch in loader:\n",
    "        optimizer.zero_grad()\n",
    "        batch = batch.to(device)\n",
    "\n",
    "        # Compute question embeddings\n",
    "        question_embeddings = model.encode_questions(batch)\n",
    "\n",
    "        # Compute article embeddings\n",
    "        article_embeddings = []\n",
    "        for idx in torch.unique(batch.y).tolist():\n",
    "            article = articles_graphs[idx].to(device)\n",
    "            article_embedding = model.encode_articles(article)\n",
    "            article_embeddings.append(article_embedding)\n",
    "        article_embeddings = torch.stack(article_embeddings)\n",
    "\n",
    "        # Compute similarity scores\n",
    "        similarity_matrix = torch.matmul(question_embeddings, article_embeddings.t())\n",
    "\n",
    "        # Compute loss and update model\n",
    "        loss = compute_loss(similarity_matrix, batch.y)\n",
    "        loss.backward()\n",
    "        optimizer.step()\n",
    "        total_loss += loss.item()\n",
    "\n",
    "    return total_loss / len(loader)\n",
    "\n"
   ]
  },
  {
   "cell_type": "code",
   "execution_count": null,
   "metadata": {},
   "outputs": [],
   "source": [
    "def test():\n",
    "    model.eval()\n",
    "    correct = 0\n",
    "    total = 0\n",
    "    for data in test_loader:\n",
    "        data = data.to(device)\n",
    "        out = model(data)\n",
    "        pred = out.argmax(dim=1)\n",
    "        correct += pred.eq(data.y).sum().item()\n",
    "        total += data.num_graphs\n",
    "    return correct / total\n",
    "\n",
    "test_acc = test()\n",
    "print('Test Accuracy: {:.5f}'.format(test_acc))"
   ]
  }
 ],
 "metadata": {
  "kernelspec": {
   "display_name": "Python 3",
   "language": "python",
   "name": "python3"
  },
  "language_info": {
   "codemirror_mode": {
    "name": "ipython",
    "version": 3
   },
   "file_extension": ".py",
   "mimetype": "text/x-python",
   "name": "python",
   "nbconvert_exporter": "python",
   "pygments_lexer": "ipython3",
   "version": "3.11.3"
  },
  "orig_nbformat": 4
 },
 "nbformat": 4,
 "nbformat_minor": 2
}
