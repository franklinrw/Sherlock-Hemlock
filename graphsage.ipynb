{
 "cells": [
  {
   "cell_type": "code",
   "execution_count": 34,
   "metadata": {},
   "outputs": [],
   "source": [
    "import transformers as t\n",
    "import datasets\n",
    "from datasets import load_dataset\n",
    "\n",
    "import torch\n",
    "import torch_geometric\n",
    "\n",
    "import numpy as np\n",
    "import pandas as pd\n",
    "\n",
    "import spacy\n",
    "\n",
    "import os\n",
    "import json\n",
    "\n",
    "from torch_geometric.data import Data, Dataset\n",
    "from huggingface_hub import hf_hub_download\n",
    "\n",
    "from huggingface_hub import hf_hub_url\n",
    "from huggingface_hub.file_download import cached_download"
   ]
  },
  {
   "cell_type": "code",
   "execution_count": 31,
   "metadata": {},
   "outputs": [],
   "source": [
    "def graphs_from_json(json_file):\n",
    "    with open(json_file, \"r\") as f:\n",
    "        graphs = json.load(f)\n",
    "\n",
    "    dataset = []\n",
    "    for graph in graphs:\n",
    "        x = torch.tensor(graph['x'], dtype=torch.float).view(-1, 1)\n",
    "        edge_index = torch.tensor(graph['edge_index'], dtype=torch.long)\n",
    "        y = torch.tensor(graph['y'], dtype=torch.long)\n",
    "        data = Data(x=x, edge_index=edge_index, y=y)\n",
    "        dataset.append(data)\n",
    "\n",
    "    return dataset"
   ]
  },
  {
   "cell_type": "code",
   "execution_count": 35,
   "metadata": {},
   "outputs": [],
   "source": [
    "repo_name = \"FranklinWillemen/mapa_plus_graph\"\n",
    "\n",
    "# Download the JSON files\n",
    "#hf_hub_download(repo_id=repo_name, repo_type=\"dataset\", filename=\"graphs_train.json\")\n",
    "#hf_hub_download(repo_id=repo_name, repo_type=\"dataset\", filename=\"graphs_val.json\")\n",
    "#hf_hub_download(repo_id=repo_name, repo_type=\"dataset\", filename=\"graphs_test.json\")\n",
    "\n",
    "train_url = hf_hub_url(repo_name, \"graphs_train.json\", repo_type=\"dataset\")\n",
    "val_url = hf_hub_url(repo_name, \"graphs_val.json\", repo_type=\"dataset\")\n",
    "test_url = hf_hub_url(repo_name, \"graphs_test.json\", repo_type=\"dataset\")\n",
    "\n",
    "train_file = cached_download(train_url)\n",
    "val_file = cached_download(val_url)\n",
    "test_file = cached_download(test_url)\n",
    "\n",
    "train_dataset = graphs_from_json(train_file)\n",
    "val_dataset = graphs_from_json(val_file)\n",
    "test_dataset = graphs_from_json(test_file)"
   ]
  },
  {
   "cell_type": "code",
   "execution_count": null,
   "metadata": {},
   "outputs": [],
   "source": []
  }
 ],
 "metadata": {
  "kernelspec": {
   "display_name": "Python 3",
   "language": "python",
   "name": "python3"
  },
  "language_info": {
   "codemirror_mode": {
    "name": "ipython",
    "version": 3
   },
   "file_extension": ".py",
   "mimetype": "text/x-python",
   "name": "python",
   "nbconvert_exporter": "python",
   "pygments_lexer": "ipython3",
   "version": "3.11.3"
  },
  "orig_nbformat": 4
 },
 "nbformat": 4,
 "nbformat_minor": 2
}
