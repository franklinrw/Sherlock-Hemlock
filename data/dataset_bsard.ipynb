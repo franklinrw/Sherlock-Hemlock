{
  "cells": [
    {
      "cell_type": "markdown",
      "metadata": {
        "colab_type": "text",
        "id": "view-in-github"
      },
      "source": [
        "<a href=\"https://colab.research.google.com/github/franklinwillemen/Sherlock-Hemlock-Graph-Based-NER/blob/main/data_build_test.ipynb\" target=\"_parent\"><img src=\"https://colab.research.google.com/assets/colab-badge.svg\" alt=\"Open In Colab\"/></a>"
      ]
    },
    {
      "cell_type": "code",
      "execution_count": 78,
      "metadata": {
        "id": "864qOfVUHbdH"
      },
      "outputs": [],
      "source": [
        "import transformers as t\n",
        "import datasets\n",
        "from datasets import load_dataset\n",
        "\n",
        "import torch\n",
        "import torch_geometric\n",
        "from torch_geometric.data import Data\n",
        "\n",
        "import numpy as np\n",
        "import pandas as pd\n",
        "\n",
        "import spacy\n",
        "from spacy.util import minibatch\n",
        "\n",
        "from sklearn.preprocessing import LabelEncoder\n",
        "\n",
        "from spacy.tokenizer import Tokenizer\n",
        "from spacy.util import compile_infix_regex"
      ]
    },
    {
      "cell_type": "code",
      "execution_count": null,
      "metadata": {},
      "outputs": [],
      "source": [
        "#from spacy import displacy\n",
        "\n",
        "#doc = nlp_large('je suis travailleur salarié (e) puis je refuser de faire des heures supplémentaires ou de travailler de nuit')\n",
        "#displacy.serve(doc, style='dep')"
      ]
    },
    {
      "cell_type": "code",
      "execution_count": 98,
      "metadata": {},
      "outputs": [],
      "source": [
        "def extract_features(docs):\n",
        "    pos, dep, heads, tokens = [], [], [], []\n",
        "    \n",
        "    for doc in docs:\n",
        "        pos_doc, dep_doc, heads_doc, tokens_doc = [], [], [], []\n",
        "        for sent in doc.sents:\n",
        "            pos_sent = [token.pos_ for token in sent]\n",
        "            dep_sent = [token.dep_ for token in sent]\n",
        "            heads_sent = [token.head.i - sent.start for token in sent]\n",
        "            tokens_sent = [token.text for token in sent]\n",
        "            pos_doc.append(pos_sent)\n",
        "            dep_doc.append(dep_sent)\n",
        "            heads_doc.append(heads_sent)\n",
        "            tokens_doc.append(tokens_sent)\n",
        "        pos.append(pos_doc)\n",
        "        dep.append(dep_doc)\n",
        "        heads.append(heads_doc)\n",
        "        tokens.append(tokens_doc)\n",
        "    \n",
        "    return pos, dep, heads, tokens\n",
        "\n",
        "def process_with_spacy(df, nlp, column, batch_size=32):\n",
        "    pos, dep, heads, tokens = [], [], [], []\n",
        "    \n",
        "    for i in range(0, len(df), batch_size):\n",
        "        batch_text = df[column][i:i+batch_size].tolist()\n",
        "        \n",
        "        # Process batch with Spacy\n",
        "        docs = list(nlp.pipe(batch_text))\n",
        "        \n",
        "        # Extract POS, DEP, HEADS, and tokens\n",
        "        pos_batch, dep_batch, heads_batch, tokens_batch = extract_features(docs)\n",
        "        pos.extend(pos_batch)\n",
        "        dep.extend(dep_batch)\n",
        "        heads.extend(heads_batch)\n",
        "        tokens.extend(tokens_batch)\n",
        "        \n",
        "    df.loc[:, 'pos'] = pd.Series(pos)\n",
        "    df.loc[:, 'dep'] = pd.Series(dep)\n",
        "    df.loc[:, 'heads'] = pd.Series(heads)\n",
        "    df.loc[:, 'tokens'] = pd.Series(tokens)\n",
        "\n",
        "    return df\n",
        "\n",
        "def normalize_text(text, nlp):\n",
        "    # Parse the sentence using the loaded 'fr' model object `nlp`\n",
        "    doc = nlp(text)\n",
        "\n",
        "    # Extract the lemma for each token and join\n",
        "    normalized_text = \" \".join(token.text.lower() for token in doc if not token.is_punct)\n",
        "\n",
        "    return normalized_text\n",
        "\n",
        "def custom_tokenizer(nlp):\n",
        "    infixes = nlp.Defaults.infixes + [r'\\(([^)]+)\\)']  # Added pattern to split off parenthetical suffixes\n",
        "    infix_re = compile_infix_regex(infixes)\n",
        "\n",
        "    return Tokenizer(nlp.vocab, infix_finditer=infix_re.finditer)"
      ]
    },
    {
      "cell_type": "code",
      "execution_count": 85,
      "metadata": {},
      "outputs": [],
      "source": [
        "# Processing using Spacy pipelines\n",
        "nlp_large = spacy.load(\"fr_dep_news_trf\")\n",
        "nlp_small = spacy.load(\"fr_core_news_sm\")\n",
        "nlp_small.tokenizer = custom_tokenizer(nlp_small)"
      ]
    },
    {
      "cell_type": "code",
      "execution_count": 50,
      "metadata": {},
      "outputs": [],
      "source": [
        "#articles = load_dataset(\"maastrichtlawtech/bsard\", data_files=\"articles_fr.csv\", split=\"train\")\n",
        "#articles = pd.DataFrame(articles.to_pandas())\n",
        "#articles.head()\n",
        "\n",
        "# articles are already processed and downloadable from huggingface\n",
        "df = pd.read_csv(\"../../local_datasets/bsard_extra/bsard_articles_preprocessed.csv\")"
      ]
    },
    {
      "cell_type": "code",
      "execution_count": 52,
      "metadata": {},
      "outputs": [
        {
          "name": "stderr",
          "output_type": "stream",
          "text": [
            "Found cached dataset csv (C:/Users/Frank/.cache/huggingface/datasets/maastrichtlawtech___csv/maastrichtlawtech--bsard-d4b4993551724e5a/0.0.0/6954658bab30a358235fa864b05cf819af0e179325c740e4bc853bcc7ec513e1)\n",
            "Found cached dataset csv (C:/Users/Frank/.cache/huggingface/datasets/maastrichtlawtech___csv/maastrichtlawtech--bsard-41a15be090989dc9/0.0.0/6954658bab30a358235fa864b05cf819af0e179325c740e4bc853bcc7ec513e1)\n",
            "Found cached dataset csv (C:/Users/Frank/.cache/huggingface/datasets/maastrichtlawtech___csv/maastrichtlawtech--bsard-dc9bbe4c96b2ba1d/0.0.0/6954658bab30a358235fa864b05cf819af0e179325c740e4bc853bcc7ec513e1)\n"
          ]
        }
      ],
      "source": [
        "q_train = load_dataset(\"maastrichtlawtech/bsard\", data_files=\"questions_fr_train.csv\", split=\"train\").to_pandas()\n",
        "q_test = load_dataset(\"maastrichtlawtech/bsard\", data_files=\"questions_fr_test.csv\", split=\"train\").to_pandas()"
      ]
    },
    {
      "cell_type": "code",
      "execution_count": 99,
      "metadata": {},
      "outputs": [],
      "source": [
        "q_train['normalized_question'] = q_train['question'].apply(lambda x: normalize_text(x, nlp_small))\n",
        "q_test['normalized_question'] = q_test['question'].apply(lambda x: normalize_text(x, nlp_small))"
      ]
    },
    {
      "cell_type": "code",
      "execution_count": 106,
      "metadata": {},
      "outputs": [],
      "source": [
        "q_train = process_with_spacy(q_train, nlp_large, \"normalized_question\")\n",
        "q_test = process_with_spacy(q_test, nlp_large, \"normalized_question\")"
      ]
    },
    {
      "cell_type": "code",
      "execution_count": 112,
      "metadata": {},
      "outputs": [],
      "source": [
        "q_train.to_csv(\"../../local_datasets/bsard_extra/bsard_expert_questions_train_preprocessed.csv\")\n",
        "q_test.to_csv(\"../../local_datasets/bsard_extra/bsard_expert_questions_test_preprocessed.csv\")"
      ]
    },
    {
      "cell_type": "code",
      "execution_count": 113,
      "metadata": {},
      "outputs": [
        {
          "name": "stderr",
          "output_type": "stream",
          "text": [
            "Found cached dataset csv (C:/Users/Frank/.cache/huggingface/datasets/maastrichtlawtech___csv/maastrichtlawtech--bsard-dc9bbe4c96b2ba1d/0.0.0/6954658bab30a358235fa864b05cf819af0e179325c740e4bc853bcc7ec513e1)\n"
          ]
        }
      ],
      "source": [
        "q_synth = load_dataset(\"maastrichtlawtech/bsard\", data_files=\"questions_fr_synthetic.csv\", split=\"train\").to_pandas()"
      ]
    },
    {
      "cell_type": "code",
      "execution_count": 119,
      "metadata": {},
      "outputs": [],
      "source": [
        "q_synth = process_with_spacy(q_synth, nlp_large, \"question\")"
      ]
    },
    {
      "cell_type": "code",
      "execution_count": 123,
      "metadata": {},
      "outputs": [
        {
          "data": {
            "text/plain": [
              "'quel droit du gouvernement élargie la matière visée à la constitution.'"
            ]
          },
          "execution_count": 123,
          "metadata": {},
          "output_type": "execute_result"
        }
      ],
      "source": [
        "q_synth.iloc[2][\"question\"]"
      ]
    },
    {
      "cell_type": "code",
      "execution_count": 124,
      "metadata": {},
      "outputs": [],
      "source": [
        "q_synth.to_csv(\"../../local_datasets/bsard_extra/bsard_synthetic_questions_preprocessed.csv\")"
      ]
    },
    {
      "cell_type": "code",
      "execution_count": 125,
      "metadata": {},
      "outputs": [
        {
          "name": "stderr",
          "output_type": "stream",
          "text": [
            "C:\\Users\\Frank\\AppData\\Local\\Temp\\ipykernel_6416\\666645792.py:4: DeprecationWarning: Call to deprecated `load_fasttext_format` (use load_facebook_vectors (to use pretrained embeddings) or load_facebook_model (to continue training with the loaded full model, more RAM) instead).\n",
            "  model = FastText.load_fasttext_format('cc.fr.300.bin')\n"
          ]
        },
        {
          "ename": "FileNotFoundError",
          "evalue": "[Errno 2] No such file or directory: 'cc.fr.300.bin'",
          "output_type": "error",
          "traceback": [
            "\u001b[1;31m---------------------------------------------------------------------------\u001b[0m",
            "\u001b[1;31mFileNotFoundError\u001b[0m                         Traceback (most recent call last)",
            "Cell \u001b[1;32mIn[125], line 4\u001b[0m\n\u001b[0;32m      1\u001b[0m \u001b[39mfrom\u001b[39;00m \u001b[39mgensim\u001b[39;00m\u001b[39m.\u001b[39;00m\u001b[39mmodels\u001b[39;00m\u001b[39m.\u001b[39;00m\u001b[39mfasttext\u001b[39;00m \u001b[39mimport\u001b[39;00m FastText\n\u001b[0;32m      3\u001b[0m \u001b[39m# Load FastText model\u001b[39;00m\n\u001b[1;32m----> 4\u001b[0m model \u001b[39m=\u001b[39m FastText\u001b[39m.\u001b[39;49mload_fasttext_format(\u001b[39m'\u001b[39;49m\u001b[39mcc.fr.300.bin\u001b[39;49m\u001b[39m'\u001b[39;49m)\n\u001b[0;32m      6\u001b[0m \u001b[39m# Get the vector for a word\u001b[39;00m\n\u001b[0;32m      7\u001b[0m vector \u001b[39m=\u001b[39m model\u001b[39m.\u001b[39mwv[\u001b[39m'\u001b[39m\u001b[39mmaison\u001b[39m\u001b[39m'\u001b[39m]\n",
            "File \u001b[1;32mc:\\Users\\Frank\\AppData\\Local\\Programs\\Python\\Python311\\Lib\\site-packages\\gensim\\utils.py:1522\u001b[0m, in \u001b[0;36mdeprecated.<locals>.decorator.<locals>.new_func1\u001b[1;34m(*args, **kwargs)\u001b[0m\n\u001b[0;32m   1515\u001b[0m \u001b[39m@wraps\u001b[39m(func)\n\u001b[0;32m   1516\u001b[0m \u001b[39mdef\u001b[39;00m \u001b[39mnew_func1\u001b[39m(\u001b[39m*\u001b[39margs, \u001b[39m*\u001b[39m\u001b[39m*\u001b[39mkwargs):\n\u001b[0;32m   1517\u001b[0m     warnings\u001b[39m.\u001b[39mwarn(\n\u001b[0;32m   1518\u001b[0m         fmt\u001b[39m.\u001b[39mformat(name\u001b[39m=\u001b[39mfunc\u001b[39m.\u001b[39m\u001b[39m__name__\u001b[39m, reason\u001b[39m=\u001b[39mreason),\n\u001b[0;32m   1519\u001b[0m         category\u001b[39m=\u001b[39m\u001b[39mDeprecationWarning\u001b[39;00m,\n\u001b[0;32m   1520\u001b[0m         stacklevel\u001b[39m=\u001b[39m\u001b[39m2\u001b[39m\n\u001b[0;32m   1521\u001b[0m     )\n\u001b[1;32m-> 1522\u001b[0m     \u001b[39mreturn\u001b[39;00m func(\u001b[39m*\u001b[39;49margs, \u001b[39m*\u001b[39;49m\u001b[39m*\u001b[39;49mkwargs)\n",
            "File \u001b[1;32mc:\\Users\\Frank\\AppData\\Local\\Programs\\Python\\Python311\\Lib\\site-packages\\gensim\\models\\fasttext.py:580\u001b[0m, in \u001b[0;36mFastText.load_fasttext_format\u001b[1;34m(cls, model_file, encoding)\u001b[0m\n\u001b[0;32m    568\u001b[0m \u001b[39m@classmethod\u001b[39m\n\u001b[0;32m    569\u001b[0m \u001b[39m@utils\u001b[39m\u001b[39m.\u001b[39mdeprecated(\n\u001b[0;32m    570\u001b[0m     \u001b[39m'\u001b[39m\u001b[39muse load_facebook_vectors (to use pretrained embeddings) or load_facebook_model \u001b[39m\u001b[39m'\u001b[39m\n\u001b[0;32m    571\u001b[0m     \u001b[39m'\u001b[39m\u001b[39m(to continue training with the loaded full model, more RAM) instead\u001b[39m\u001b[39m'\u001b[39m\n\u001b[0;32m    572\u001b[0m )\n\u001b[0;32m    573\u001b[0m \u001b[39mdef\u001b[39;00m \u001b[39mload_fasttext_format\u001b[39m(\u001b[39mcls\u001b[39m, model_file, encoding\u001b[39m=\u001b[39m\u001b[39m'\u001b[39m\u001b[39mutf8\u001b[39m\u001b[39m'\u001b[39m):\n\u001b[0;32m    574\u001b[0m \u001b[39m    \u001b[39m\u001b[39m\"\"\"Deprecated.\u001b[39;00m\n\u001b[0;32m    575\u001b[0m \n\u001b[0;32m    576\u001b[0m \u001b[39m    Use :func:`gensim.models.fasttext.load_facebook_model` or\u001b[39;00m\n\u001b[0;32m    577\u001b[0m \u001b[39m    :func:`gensim.models.fasttext.load_facebook_vectors` instead.\u001b[39;00m\n\u001b[0;32m    578\u001b[0m \n\u001b[0;32m    579\u001b[0m \u001b[39m    \"\"\"\u001b[39;00m\n\u001b[1;32m--> 580\u001b[0m     \u001b[39mreturn\u001b[39;00m load_facebook_model(model_file, encoding\u001b[39m=\u001b[39;49mencoding)\n",
            "File \u001b[1;32mc:\\Users\\Frank\\AppData\\Local\\Programs\\Python\\Python311\\Lib\\site-packages\\gensim\\models\\fasttext.py:728\u001b[0m, in \u001b[0;36mload_facebook_model\u001b[1;34m(path, encoding)\u001b[0m\n\u001b[0;32m    666\u001b[0m \u001b[39mdef\u001b[39;00m \u001b[39mload_facebook_model\u001b[39m(path, encoding\u001b[39m=\u001b[39m\u001b[39m'\u001b[39m\u001b[39mutf-8\u001b[39m\u001b[39m'\u001b[39m):\n\u001b[0;32m    667\u001b[0m \u001b[39m    \u001b[39m\u001b[39m\"\"\"Load the model from Facebook's native fasttext `.bin` output file.\u001b[39;00m\n\u001b[0;32m    668\u001b[0m \n\u001b[0;32m    669\u001b[0m \u001b[39m    Notes\u001b[39;00m\n\u001b[1;32m   (...)\u001b[0m\n\u001b[0;32m    726\u001b[0m \n\u001b[0;32m    727\u001b[0m \u001b[39m    \"\"\"\u001b[39;00m\n\u001b[1;32m--> 728\u001b[0m     \u001b[39mreturn\u001b[39;00m _load_fasttext_format(path, encoding\u001b[39m=\u001b[39;49mencoding, full_model\u001b[39m=\u001b[39;49m\u001b[39mTrue\u001b[39;49;00m)\n",
            "File \u001b[1;32mc:\\Users\\Frank\\AppData\\Local\\Programs\\Python\\Python311\\Lib\\site-packages\\gensim\\models\\fasttext.py:807\u001b[0m, in \u001b[0;36m_load_fasttext_format\u001b[1;34m(model_file, encoding, full_model)\u001b[0m\n\u001b[0;32m    788\u001b[0m \u001b[39mdef\u001b[39;00m \u001b[39m_load_fasttext_format\u001b[39m(model_file, encoding\u001b[39m=\u001b[39m\u001b[39m'\u001b[39m\u001b[39mutf-8\u001b[39m\u001b[39m'\u001b[39m, full_model\u001b[39m=\u001b[39m\u001b[39mTrue\u001b[39;00m):\n\u001b[0;32m    789\u001b[0m \u001b[39m    \u001b[39m\u001b[39m\"\"\"Load the input-hidden weight matrix from Facebook's native fasttext `.bin` output files.\u001b[39;00m\n\u001b[0;32m    790\u001b[0m \n\u001b[0;32m    791\u001b[0m \u001b[39m    Parameters\u001b[39;00m\n\u001b[1;32m   (...)\u001b[0m\n\u001b[0;32m    805\u001b[0m \n\u001b[0;32m    806\u001b[0m \u001b[39m    \"\"\"\u001b[39;00m\n\u001b[1;32m--> 807\u001b[0m     \u001b[39mwith\u001b[39;00m utils\u001b[39m.\u001b[39;49mopen(model_file, \u001b[39m'\u001b[39;49m\u001b[39mrb\u001b[39;49m\u001b[39m'\u001b[39;49m) \u001b[39mas\u001b[39;00m fin:\n\u001b[0;32m    808\u001b[0m         m \u001b[39m=\u001b[39m gensim\u001b[39m.\u001b[39mmodels\u001b[39m.\u001b[39m_fasttext_bin\u001b[39m.\u001b[39mload(fin, encoding\u001b[39m=\u001b[39mencoding, full_model\u001b[39m=\u001b[39mfull_model)\n\u001b[0;32m    810\u001b[0m     model \u001b[39m=\u001b[39m FastText(\n\u001b[0;32m    811\u001b[0m         vector_size\u001b[39m=\u001b[39mm\u001b[39m.\u001b[39mdim,\n\u001b[0;32m    812\u001b[0m         window\u001b[39m=\u001b[39mm\u001b[39m.\u001b[39mws,\n\u001b[1;32m   (...)\u001b[0m\n\u001b[0;32m    821\u001b[0m         max_n\u001b[39m=\u001b[39mm\u001b[39m.\u001b[39mmaxn,\n\u001b[0;32m    822\u001b[0m     )\n",
            "File \u001b[1;32mc:\\Users\\Frank\\AppData\\Local\\Programs\\Python\\Python311\\Lib\\site-packages\\smart_open\\smart_open_lib.py:177\u001b[0m, in \u001b[0;36mopen\u001b[1;34m(uri, mode, buffering, encoding, errors, newline, closefd, opener, compression, transport_params)\u001b[0m\n\u001b[0;32m    174\u001b[0m \u001b[39mif\u001b[39;00m transport_params \u001b[39mis\u001b[39;00m \u001b[39mNone\u001b[39;00m:\n\u001b[0;32m    175\u001b[0m     transport_params \u001b[39m=\u001b[39m {}\n\u001b[1;32m--> 177\u001b[0m fobj \u001b[39m=\u001b[39m _shortcut_open(\n\u001b[0;32m    178\u001b[0m     uri,\n\u001b[0;32m    179\u001b[0m     mode,\n\u001b[0;32m    180\u001b[0m     compression\u001b[39m=\u001b[39;49mcompression,\n\u001b[0;32m    181\u001b[0m     buffering\u001b[39m=\u001b[39;49mbuffering,\n\u001b[0;32m    182\u001b[0m     encoding\u001b[39m=\u001b[39;49mencoding,\n\u001b[0;32m    183\u001b[0m     errors\u001b[39m=\u001b[39;49merrors,\n\u001b[0;32m    184\u001b[0m     newline\u001b[39m=\u001b[39;49mnewline,\n\u001b[0;32m    185\u001b[0m )\n\u001b[0;32m    186\u001b[0m \u001b[39mif\u001b[39;00m fobj \u001b[39mis\u001b[39;00m \u001b[39mnot\u001b[39;00m \u001b[39mNone\u001b[39;00m:\n\u001b[0;32m    187\u001b[0m     \u001b[39mreturn\u001b[39;00m fobj\n",
            "File \u001b[1;32mc:\\Users\\Frank\\AppData\\Local\\Programs\\Python\\Python311\\Lib\\site-packages\\smart_open\\smart_open_lib.py:363\u001b[0m, in \u001b[0;36m_shortcut_open\u001b[1;34m(uri, mode, compression, buffering, encoding, errors, newline)\u001b[0m\n\u001b[0;32m    360\u001b[0m \u001b[39mif\u001b[39;00m errors \u001b[39mand\u001b[39;00m \u001b[39m'\u001b[39m\u001b[39mb\u001b[39m\u001b[39m'\u001b[39m \u001b[39mnot\u001b[39;00m \u001b[39min\u001b[39;00m mode:\n\u001b[0;32m    361\u001b[0m     open_kwargs[\u001b[39m'\u001b[39m\u001b[39merrors\u001b[39m\u001b[39m'\u001b[39m] \u001b[39m=\u001b[39m errors\n\u001b[1;32m--> 363\u001b[0m \u001b[39mreturn\u001b[39;00m _builtin_open(local_path, mode, buffering\u001b[39m=\u001b[39;49mbuffering, \u001b[39m*\u001b[39;49m\u001b[39m*\u001b[39;49mopen_kwargs)\n",
            "\u001b[1;31mFileNotFoundError\u001b[0m: [Errno 2] No such file or directory: 'cc.fr.300.bin'"
          ]
        }
      ],
      "source": [
        "from gensim.models.fasttext import FastText\n",
        "\n",
        "# Load FastText model\n",
        "model = FastText.load_fasttext_format('cc.fr.300.bin')\n",
        "\n",
        "# Get the vector for a word\n",
        "vector = model.wv['maison']"
      ]
    },
    {
      "cell_type": "code",
      "execution_count": null,
      "metadata": {},
      "outputs": [],
      "source": []
    }
  ],
  "metadata": {
    "colab": {
      "authorship_tag": "ABX9TyMaoz3sZBAYoomv59N4CjB7",
      "include_colab_link": true,
      "provenance": []
    },
    "kernelspec": {
      "display_name": "Python 3",
      "name": "python3"
    },
    "language_info": {
      "codemirror_mode": {
        "name": "ipython",
        "version": 3
      },
      "file_extension": ".py",
      "mimetype": "text/x-python",
      "name": "python",
      "nbconvert_exporter": "python",
      "pygments_lexer": "ipython3",
      "version": "3.11.3"
    },
    "widgets": {
      "application/vnd.jupyter.widget-state+json": {
        "011003b37c2a459d9040552a47fddd36": {
          "model_module": "@jupyter-widgets/controls",
          "model_module_version": "1.5.0",
          "model_name": "DescriptionStyleModel",
          "state": {
            "_model_module": "@jupyter-widgets/controls",
            "_model_module_version": "1.5.0",
            "_model_name": "DescriptionStyleModel",
            "_view_count": null,
            "_view_module": "@jupyter-widgets/base",
            "_view_module_version": "1.2.0",
            "_view_name": "StyleView",
            "description_width": ""
          }
        },
        "0c6f49cd2cc74049b59ef1e8132e791d": {
          "model_module": "@jupyter-widgets/base",
          "model_module_version": "1.2.0",
          "model_name": "LayoutModel",
          "state": {
            "_model_module": "@jupyter-widgets/base",
            "_model_module_version": "1.2.0",
            "_model_name": "LayoutModel",
            "_view_count": null,
            "_view_module": "@jupyter-widgets/base",
            "_view_module_version": "1.2.0",
            "_view_name": "LayoutView",
            "align_content": null,
            "align_items": null,
            "align_self": null,
            "border": null,
            "bottom": null,
            "display": null,
            "flex": null,
            "flex_flow": null,
            "grid_area": null,
            "grid_auto_columns": null,
            "grid_auto_flow": null,
            "grid_auto_rows": null,
            "grid_column": null,
            "grid_gap": null,
            "grid_row": null,
            "grid_template_areas": null,
            "grid_template_columns": null,
            "grid_template_rows": null,
            "height": null,
            "justify_content": null,
            "justify_items": null,
            "left": null,
            "margin": null,
            "max_height": null,
            "max_width": null,
            "min_height": null,
            "min_width": null,
            "object_fit": null,
            "object_position": null,
            "order": null,
            "overflow": null,
            "overflow_x": null,
            "overflow_y": null,
            "padding": null,
            "right": null,
            "top": null,
            "visibility": null,
            "width": null
          }
        },
        "6f6c877ca460407cbb201fd331e91325": {
          "model_module": "@jupyter-widgets/base",
          "model_module_version": "1.2.0",
          "model_name": "LayoutModel",
          "state": {
            "_model_module": "@jupyter-widgets/base",
            "_model_module_version": "1.2.0",
            "_model_name": "LayoutModel",
            "_view_count": null,
            "_view_module": "@jupyter-widgets/base",
            "_view_module_version": "1.2.0",
            "_view_name": "LayoutView",
            "align_content": null,
            "align_items": null,
            "align_self": null,
            "border": null,
            "bottom": null,
            "display": null,
            "flex": null,
            "flex_flow": null,
            "grid_area": null,
            "grid_auto_columns": null,
            "grid_auto_flow": null,
            "grid_auto_rows": null,
            "grid_column": null,
            "grid_gap": null,
            "grid_row": null,
            "grid_template_areas": null,
            "grid_template_columns": null,
            "grid_template_rows": null,
            "height": null,
            "justify_content": null,
            "justify_items": null,
            "left": null,
            "margin": null,
            "max_height": null,
            "max_width": null,
            "min_height": null,
            "min_width": null,
            "object_fit": null,
            "object_position": null,
            "order": null,
            "overflow": null,
            "overflow_x": null,
            "overflow_y": null,
            "padding": null,
            "right": null,
            "top": null,
            "visibility": null,
            "width": null
          }
        },
        "79b102646c354d4192331763f0b29b3f": {
          "model_module": "@jupyter-widgets/controls",
          "model_module_version": "1.5.0",
          "model_name": "DescriptionStyleModel",
          "state": {
            "_model_module": "@jupyter-widgets/controls",
            "_model_module_version": "1.5.0",
            "_model_name": "DescriptionStyleModel",
            "_view_count": null,
            "_view_module": "@jupyter-widgets/base",
            "_view_module_version": "1.2.0",
            "_view_name": "StyleView",
            "description_width": ""
          }
        },
        "ada674c56f4241f2a32856dbb8463b73": {
          "model_module": "@jupyter-widgets/controls",
          "model_module_version": "1.5.0",
          "model_name": "HBoxModel",
          "state": {
            "_dom_classes": [],
            "_model_module": "@jupyter-widgets/controls",
            "_model_module_version": "1.5.0",
            "_model_name": "HBoxModel",
            "_view_count": null,
            "_view_module": "@jupyter-widgets/controls",
            "_view_module_version": "1.5.0",
            "_view_name": "HBoxView",
            "box_style": "",
            "children": [
              "IPY_MODEL_ba130b74d8ae4105b1bbb468a68b86fc",
              "IPY_MODEL_f5d243d7fa37434ab952bdac1f13f648",
              "IPY_MODEL_ec985b4b4f0d47368ace61a8ccd20051"
            ],
            "layout": "IPY_MODEL_0c6f49cd2cc74049b59ef1e8132e791d"
          }
        },
        "ba130b74d8ae4105b1bbb468a68b86fc": {
          "model_module": "@jupyter-widgets/controls",
          "model_module_version": "1.5.0",
          "model_name": "HTMLModel",
          "state": {
            "_dom_classes": [],
            "_model_module": "@jupyter-widgets/controls",
            "_model_module_version": "1.5.0",
            "_model_name": "HTMLModel",
            "_view_count": null,
            "_view_module": "@jupyter-widgets/controls",
            "_view_module_version": "1.5.0",
            "_view_name": "HTMLView",
            "description": "",
            "description_tooltip": null,
            "layout": "IPY_MODEL_f7671fb393934eda9bb0368a5c58883c",
            "placeholder": "​",
            "style": "IPY_MODEL_79b102646c354d4192331763f0b29b3f",
            "value": "100%"
          }
        },
        "d21462a2bed34c8da1b7f0f329e7698f": {
          "model_module": "@jupyter-widgets/base",
          "model_module_version": "1.2.0",
          "model_name": "LayoutModel",
          "state": {
            "_model_module": "@jupyter-widgets/base",
            "_model_module_version": "1.2.0",
            "_model_name": "LayoutModel",
            "_view_count": null,
            "_view_module": "@jupyter-widgets/base",
            "_view_module_version": "1.2.0",
            "_view_name": "LayoutView",
            "align_content": null,
            "align_items": null,
            "align_self": null,
            "border": null,
            "bottom": null,
            "display": null,
            "flex": null,
            "flex_flow": null,
            "grid_area": null,
            "grid_auto_columns": null,
            "grid_auto_flow": null,
            "grid_auto_rows": null,
            "grid_column": null,
            "grid_gap": null,
            "grid_row": null,
            "grid_template_areas": null,
            "grid_template_columns": null,
            "grid_template_rows": null,
            "height": null,
            "justify_content": null,
            "justify_items": null,
            "left": null,
            "margin": null,
            "max_height": null,
            "max_width": null,
            "min_height": null,
            "min_width": null,
            "object_fit": null,
            "object_position": null,
            "order": null,
            "overflow": null,
            "overflow_x": null,
            "overflow_y": null,
            "padding": null,
            "right": null,
            "top": null,
            "visibility": null,
            "width": null
          }
        },
        "e4c24417007641f8b25b0b841323e7ad": {
          "model_module": "@jupyter-widgets/controls",
          "model_module_version": "1.5.0",
          "model_name": "ProgressStyleModel",
          "state": {
            "_model_module": "@jupyter-widgets/controls",
            "_model_module_version": "1.5.0",
            "_model_name": "ProgressStyleModel",
            "_view_count": null,
            "_view_module": "@jupyter-widgets/base",
            "_view_module_version": "1.2.0",
            "_view_name": "StyleView",
            "bar_color": null,
            "description_width": ""
          }
        },
        "ec985b4b4f0d47368ace61a8ccd20051": {
          "model_module": "@jupyter-widgets/controls",
          "model_module_version": "1.5.0",
          "model_name": "HTMLModel",
          "state": {
            "_dom_classes": [],
            "_model_module": "@jupyter-widgets/controls",
            "_model_module_version": "1.5.0",
            "_model_name": "HTMLModel",
            "_view_count": null,
            "_view_module": "@jupyter-widgets/controls",
            "_view_module_version": "1.5.0",
            "_view_name": "HTMLView",
            "description": "",
            "description_tooltip": null,
            "layout": "IPY_MODEL_d21462a2bed34c8da1b7f0f329e7698f",
            "placeholder": "​",
            "style": "IPY_MODEL_011003b37c2a459d9040552a47fddd36",
            "value": " 3/3 [00:00&lt;00:00, 93.10it/s]"
          }
        },
        "f5d243d7fa37434ab952bdac1f13f648": {
          "model_module": "@jupyter-widgets/controls",
          "model_module_version": "1.5.0",
          "model_name": "FloatProgressModel",
          "state": {
            "_dom_classes": [],
            "_model_module": "@jupyter-widgets/controls",
            "_model_module_version": "1.5.0",
            "_model_name": "FloatProgressModel",
            "_view_count": null,
            "_view_module": "@jupyter-widgets/controls",
            "_view_module_version": "1.5.0",
            "_view_name": "ProgressView",
            "bar_style": "success",
            "description": "",
            "description_tooltip": null,
            "layout": "IPY_MODEL_6f6c877ca460407cbb201fd331e91325",
            "max": 3,
            "min": 0,
            "orientation": "horizontal",
            "style": "IPY_MODEL_e4c24417007641f8b25b0b841323e7ad",
            "value": 3
          }
        },
        "f7671fb393934eda9bb0368a5c58883c": {
          "model_module": "@jupyter-widgets/base",
          "model_module_version": "1.2.0",
          "model_name": "LayoutModel",
          "state": {
            "_model_module": "@jupyter-widgets/base",
            "_model_module_version": "1.2.0",
            "_model_name": "LayoutModel",
            "_view_count": null,
            "_view_module": "@jupyter-widgets/base",
            "_view_module_version": "1.2.0",
            "_view_name": "LayoutView",
            "align_content": null,
            "align_items": null,
            "align_self": null,
            "border": null,
            "bottom": null,
            "display": null,
            "flex": null,
            "flex_flow": null,
            "grid_area": null,
            "grid_auto_columns": null,
            "grid_auto_flow": null,
            "grid_auto_rows": null,
            "grid_column": null,
            "grid_gap": null,
            "grid_row": null,
            "grid_template_areas": null,
            "grid_template_columns": null,
            "grid_template_rows": null,
            "height": null,
            "justify_content": null,
            "justify_items": null,
            "left": null,
            "margin": null,
            "max_height": null,
            "max_width": null,
            "min_height": null,
            "min_width": null,
            "object_fit": null,
            "object_position": null,
            "order": null,
            "overflow": null,
            "overflow_x": null,
            "overflow_y": null,
            "padding": null,
            "right": null,
            "top": null,
            "visibility": null,
            "width": null
          }
        }
      }
    }
  },
  "nbformat": 4,
  "nbformat_minor": 0
}
