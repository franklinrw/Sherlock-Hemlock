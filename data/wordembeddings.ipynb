{
 "cells": [
  {
   "cell_type": "code",
   "execution_count": 1,
   "metadata": {},
   "outputs": [
    {
     "name": "stdout",
     "output_type": "stream",
     "text": [
      "c:\\Users\\Frank\\Sherlock-Hemlock\\data\n"
     ]
    }
   ],
   "source": [
    "import os\n",
    "print(os.getcwd())"
   ]
  },
  {
   "cell_type": "code",
   "execution_count": 1,
   "metadata": {},
   "outputs": [
    {
     "name": "stderr",
     "output_type": "stream",
     "text": [
      "c:\\Users\\Frank\\AppData\\Local\\Programs\\Python\\Python311\\Lib\\site-packages\\tqdm\\auto.py:21: TqdmWarning: IProgress not found. Please update jupyter and ipywidgets. See https://ipywidgets.readthedocs.io/en/stable/user_install.html\n",
      "  from .autonotebook import tqdm as notebook_tqdm\n",
      "Downloading (…)lve/main/config.json: 100%|██████████| 508/508 [00:00<00:00, 259kB/s]\n",
      "c:\\Users\\Frank\\AppData\\Local\\Programs\\Python\\Python311\\Lib\\site-packages\\huggingface_hub\\file_download.py:133: UserWarning: `huggingface_hub` cache-system uses symlinks by default to efficiently store duplicated files but your machine does not support them in C:\\Users\\Frank\\.cache\\huggingface\\hub. Caching files will still work but in a degraded version that might require more space on your disk. This warning can be disabled by setting the `HF_HUB_DISABLE_SYMLINKS_WARNING` environment variable. For more details, see https://huggingface.co/docs/huggingface_hub/how-to-cache#limitations.\n",
      "To support symlinks on Windows, you either need to activate Developer Mode or to run Python as an administrator. In order to see activate developer mode, see this article: https://docs.microsoft.com/en-us/windows/apps/get-started/enable-your-device-for-development\n",
      "  warnings.warn(message)\n",
      "Downloading (…)tencepiece.bpe.model: 100%|██████████| 811k/811k [00:00<00:00, 909kB/s]\n",
      "Downloading (…)/main/tokenizer.json: 100%|██████████| 1.40M/1.40M [00:01<00:00, 1.03MB/s]\n",
      "Downloading pytorch_model.bin: 100%|██████████| 445M/445M [03:42<00:00, 2.00MB/s] \n",
      "Some weights of the model checkpoint at camembert-base were not used when initializing CamembertModel: ['lm_head.decoder.weight', 'lm_head.bias', 'lm_head.layer_norm.weight', 'lm_head.layer_norm.bias', 'lm_head.dense.bias', 'lm_head.dense.weight']\n",
      "- This IS expected if you are initializing CamembertModel from the checkpoint of a model trained on another task or with another architecture (e.g. initializing a BertForSequenceClassification model from a BertForPreTraining model).\n",
      "- This IS NOT expected if you are initializing CamembertModel from the checkpoint of a model that you expect to be exactly identical (initializing a BertForSequenceClassification model from a BertForSequenceClassification model).\n"
     ]
    }
   ],
   "source": [
    "# from transformers import AutoTokenizer, AutoModel\n",
    "# import torch\n",
    "\n",
    "# # Load pre-trained model tokenizer (vocabulary)\n",
    "# tokenizer = AutoTokenizer.from_pretrained(\"camembert-base\")\n",
    "\n",
    "# # Load pre-trained model (weights)\n",
    "# model = AutoModel.from_pretrained(\"camembert-base\")\n",
    "\n",
    "# # Text to encode\n",
    "# text = \"Je suis un étudiant.\"\n",
    "\n",
    "# # Add special tokens takes care of adding [CLS], [SEP], <s>... tokens in the right way for each model.\n",
    "# input_ids = tokenizer.encode(text, add_special_tokens=True) \n",
    "# tokens = tokenizer.convert_ids_to_tokens(input_ids) # Convert the ids to tokens.\n",
    "\n",
    "# # Create a tensor out of the input ids and move it to the GPU if available\n",
    "# input_ids = torch.tensor([input_ids])\n",
    "\n",
    "# # If you have a GPU, put everything on cuda\n",
    "# #input_ids = input_ids.to('cuda')\n",
    "# #model.to('cuda')\n",
    "\n",
    "# # This context manager makes sure that the model's internal states such as the \n",
    "# # computation graph, the gradients, etc... are not saved in memory which would \n",
    "# # lead to increased memory usage.\n",
    "# with torch.no_grad():\n",
    "#     last_hidden_states = model(input_ids)[0]  # Models outputs are now tuples\n",
    "\n",
    "# # Get the embeddings of the [CLS] token for each layer\n",
    "# word_embeddings = last_hidden_states[0]"
   ]
  },
  {
   "cell_type": "code",
   "execution_count": 5,
   "metadata": {},
   "outputs": [
    {
     "name": "stderr",
     "output_type": "stream",
     "text": [
      "Some weights of the model checkpoint at camembert-base were not used when initializing CamembertModel: ['lm_head.decoder.weight', 'lm_head.bias', 'lm_head.layer_norm.weight', 'lm_head.layer_norm.bias', 'lm_head.dense.bias', 'lm_head.dense.weight']\n",
      "- This IS expected if you are initializing CamembertModel from the checkpoint of a model trained on another task or with another architecture (e.g. initializing a BertForSequenceClassification model from a BertForPreTraining model).\n",
      "- This IS NOT expected if you are initializing CamembertModel from the checkpoint of a model that you expect to be exactly identical (initializing a BertForSequenceClassification model from a BertForSequenceClassification model).\n"
     ]
    }
   ],
   "source": [
    "# from transformers import CamembertTokenizer, CamembertModel\n",
    "# import torch\n",
    "\n",
    "# tokenizer = CamembertTokenizer.from_pretrained('camembert-base')\n",
    "# model = CamembertModel.from_pretrained('camembert-base')\n",
    "\n",
    "# def get_word_embedding(word):\n",
    "#     input_ids = tokenizer.encode(word, return_tensors='pt')\n",
    "#     with torch.no_grad():\n",
    "#         outputs = model(input_ids)\n",
    "#     # Use the mean of the last hidden state as the word embedding\n",
    "#     word_embedding = outputs.last_hidden_state.mean(dim=1)\n",
    "#     return word_embedding\n",
    "\n",
    "# word = \"maison\"\n",
    "# embedding = get_word_embedding(word)"
   ]
  },
  {
   "cell_type": "code",
   "execution_count": 41,
   "metadata": {},
   "outputs": [],
   "source": [
    "import gensim\n",
    "import gensim.models\n",
    "import ast\n",
    "from spacy.lang.fr.stop_words import STOP_WORDS\n",
    "\n",
    "model = gensim.models.fasttext._load_fasttext_format(\"../cc.fr.2023.bin\", full_model=False)"
   ]
  },
  {
   "cell_type": "code",
   "execution_count": 71,
   "metadata": {},
   "outputs": [],
   "source": [
    "import pandas as pd\n",
    "articles = pd.read_csv(\"../../local_datasets/bsard_extra/bsard_articles_preprocessed.csv\")\n",
    "q_test = pd.read_csv(\"../../local_datasets/bsard_extra/bsard_expert_questions_test_preprocessed.csv\").drop('Unnamed: 0', axis=1)\n",
    "q_train = pd.read_csv(\"../../local_datasets/bsard_extra/bsard_expert_questions_train_preprocessed.csv\").drop('Unnamed: 0', axis=1)\n",
    "q_synth = pd.read_csv(\"../../local_datasets/bsard_extra/bsard_synthetic_questions_preprocessed.csv\").drop('Unnamed: 0', axis=1)\n",
    "\n",
    "articles[\"tokens\"] = articles[\"tokens\"].apply(ast.literal_eval)\n",
    "q_train[\"tokens\"] = q_train[\"tokens\"].apply(ast.literal_eval)\n",
    "q_test[\"tokens\"] = q_test[\"tokens\"].apply(ast.literal_eval)\n",
    "q_synth[\"tokens\"] = q_synth[\"tokens\"].apply(ast.literal_eval)"
   ]
  },
  {
   "cell_type": "code",
   "execution_count": 50,
   "metadata": {},
   "outputs": [],
   "source": [
    "from spacy.lang.fr.stop_words import STOP_WORDS\n",
    "exclude_list = [\"l'\", \"le\", \"la\", \"les\", \".\", \",\", \";\", \":\", \"(\", \")\", \"[\", \"]\", \"{\", \"}\", \"?\", \"!\", \"-\", \"«\", \"»\"]\n",
    "\n",
    "def generate_sentence_embeddings(tokenized_sentences, exclude_list, fasttext_model):\n",
    "    sentence_embeddings = []\n",
    "    for sentence in tokenized_sentences:\n",
    "        word_embeddings = []\n",
    "        for idx, word in enumerate(sentence):\n",
    "            word = word.lower()\n",
    "            if word not in exclude_list and word not in STOP_WORDS and word.isalpha():\n",
    "                word_embedding = fasttext_model.wv[word]\n",
    "                word_embeddings.append((idx, word, word_embedding))\n",
    "        sentence_embeddings.append(word_embeddings)\n",
    "    return sentence_embeddings"
   ]
  },
  {
   "cell_type": "code",
   "execution_count": 75,
   "metadata": {},
   "outputs": [],
   "source": [
    "q_train['word_embeddings'] = q_train['tokens'].apply(lambda tokens: generate_sentence_embeddings(tokens, exclude_list, model))\n",
    "q_test['word_embeddings'] = q_test['tokens'].apply(lambda tokens: generate_sentence_embeddings(tokens, exclude_list, model))\n",
    "q_synth['word_embeddings'] = q_synth['tokens'].apply(lambda tokens: generate_sentence_embeddings(tokens, exclude_list, model))"
   ]
  },
  {
   "cell_type": "code",
   "execution_count": 77,
   "metadata": {},
   "outputs": [],
   "source": [
    "articles['word_embeddings'] = articles['tokens'].apply(lambda tokens: generate_sentence_embeddings(tokens, exclude_list, model))"
   ]
  },
  {
   "cell_type": "code",
   "execution_count": 87,
   "metadata": {},
   "outputs": [
    {
     "data": {
      "text/plain": [
       "0        [[(1, présent, [ 5.80670917e-03  9.87947453e-0...\n",
       "1        [[(1, présent, [ 5.80670917e-03  9.87947453e-0...\n",
       "2        [[(1, présent, [ 5.80670917e-03  9.87947453e-0...\n",
       "3        [[(1, sens, [ 0.08547884  0.08123539  0.016227...\n",
       "4        [[(1, plan, [-0.07429864  0.03693126  0.016701...\n",
       "                               ...                        \n",
       "22628    [[(1, ville, [-4.35092673e-02  5.73099628e-02 ...\n",
       "22629    [[(1, pouvoir, [ 6.06184416e-02  4.02655900e-0...\n",
       "22630    [[(0, aucune, [ 0.02575823  0.10380266  0.0596...\n",
       "22631    [[(2, régence, [-0.04805386  0.07182669 -0.106...\n",
       "22632    [[(2, commun, [ 9.44962166e-03 -2.95859687e-02...\n",
       "Name: word_embeddings, Length: 22633, dtype: object"
      ]
     },
     "execution_count": 87,
     "metadata": {},
     "output_type": "execute_result"
    }
   ],
   "source": [
    "articles['word_embeddings']"
   ]
  },
  {
   "cell_type": "code",
   "execution_count": 95,
   "metadata": {},
   "outputs": [
    {
     "name": "stderr",
     "output_type": "stream",
     "text": [
      "C:\\Users\\Frank\\AppData\\Local\\Temp\\ipykernel_11636\\2887933592.py:1: PerformanceWarning: \n",
      "your performance may suffer as PyTables will pickle object types that it cannot\n",
      "map directly to c-types [inferred_type->mixed,key->block1_values] [items->Index(['article', 'pos', 'dep', 'heads', 'tokens', 'word_embeddings'], dtype='object')]\n",
      "\n",
      "  articles.to_hdf(\"../../local_datasets/bsard_extra/gsard_articles.h5\", key='dataframe', mode='w', complevel=9, complib='blosc')\n",
      "C:\\Users\\Frank\\AppData\\Local\\Temp\\ipykernel_11636\\2887933592.py:2: PerformanceWarning: \n",
      "your performance may suffer as PyTables will pickle object types that it cannot\n",
      "map directly to c-types [inferred_type->mixed,key->block1_values] [items->Index(['category', 'subcategory', 'question', 'extra_description',\n",
      "       'article_ids', 'normalized_question', 'pos', 'dep', 'heads', 'tokens',\n",
      "       'word_embeddings'],\n",
      "      dtype='object')]\n",
      "\n",
      "  q_train.to_hdf(\"../../local_datasets/bsard_extra/gsard_expert_questions_train.h5\", key='dataframe', mode='w', complevel=9, complib='blosc')\n",
      "C:\\Users\\Frank\\AppData\\Local\\Temp\\ipykernel_11636\\2887933592.py:3: PerformanceWarning: \n",
      "your performance may suffer as PyTables will pickle object types that it cannot\n",
      "map directly to c-types [inferred_type->mixed,key->block1_values] [items->Index(['category', 'subcategory', 'question', 'extra_description',\n",
      "       'article_ids', 'normalized_question', 'pos', 'dep', 'heads', 'tokens',\n",
      "       'word_embeddings'],\n",
      "      dtype='object')]\n",
      "\n",
      "  q_test.to_hdf(\"../../local_datasets/bsard_extra/gsard_expert_questions_test.h5\", key='dataframe', mode='w', complevel=9, complib='blosc')\n",
      "C:\\Users\\Frank\\AppData\\Local\\Temp\\ipykernel_11636\\2887933592.py:4: PerformanceWarning: \n",
      "your performance may suffer as PyTables will pickle object types that it cannot\n",
      "map directly to c-types [inferred_type->mixed,key->block1_values] [items->Index(['question', 'pos', 'dep', 'heads', 'tokens', 'word_embeddings'], dtype='object')]\n",
      "\n",
      "  q_synth.to_hdf(\"../../local_datasets/bsard_extra/gsard_expert_questions_synth.h5\", key='dataframe', mode='w', complevel=9, complib='blosc')\n"
     ]
    }
   ],
   "source": [
    "articles.to_hdf(\"../../local_datasets/bsard_extra/gsard_articles.h5\", key='dataframe', mode='w', complevel=9, complib='blosc')\n",
    "q_train.to_hdf(\"../../local_datasets/bsard_extra/gsard_expert_questions_train.h5\", key='dataframe', mode='w', complevel=9, complib='blosc')\n",
    "q_test.to_hdf(\"../../local_datasets/bsard_extra/gsard_expert_questions_test.h5\", key='dataframe', mode='w', complevel=9, complib='blosc')\n",
    "q_synth.to_hdf(\"../../local_datasets/bsard_extra/gsard_expert_questions_synth.h5\", key='dataframe', mode='w', complevel=9, complib='blosc')"
   ]
  },
  {
   "cell_type": "code",
   "execution_count": null,
   "metadata": {},
   "outputs": [],
   "source": []
  }
 ],
 "metadata": {
  "kernelspec": {
   "display_name": "Python 3",
   "language": "python",
   "name": "python3"
  },
  "language_info": {
   "codemirror_mode": {
    "name": "ipython",
    "version": 3
   },
   "file_extension": ".py",
   "mimetype": "text/x-python",
   "name": "python",
   "nbconvert_exporter": "python",
   "pygments_lexer": "ipython3",
   "version": "3.11.3"
  },
  "orig_nbformat": 4
 },
 "nbformat": 4,
 "nbformat_minor": 2
}
