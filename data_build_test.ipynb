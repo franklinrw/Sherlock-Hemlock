{
  "nbformat": 4,
  "nbformat_minor": 0,
  "metadata": {
    "colab": {
      "provenance": [],
      "authorship_tag": "ABX9TyMaoz3sZBAYoomv59N4CjB7",
      "include_colab_link": true
    },
    "kernelspec": {
      "name": "python3",
      "display_name": "Python 3"
    },
    "language_info": {
      "name": "python"
    },
    "widgets": {
      "application/vnd.jupyter.widget-state+json": {
        "ada674c56f4241f2a32856dbb8463b73": {
          "model_module": "@jupyter-widgets/controls",
          "model_name": "HBoxModel",
          "model_module_version": "1.5.0",
          "state": {
            "_dom_classes": [],
            "_model_module": "@jupyter-widgets/controls",
            "_model_module_version": "1.5.0",
            "_model_name": "HBoxModel",
            "_view_count": null,
            "_view_module": "@jupyter-widgets/controls",
            "_view_module_version": "1.5.0",
            "_view_name": "HBoxView",
            "box_style": "",
            "children": [
              "IPY_MODEL_ba130b74d8ae4105b1bbb468a68b86fc",
              "IPY_MODEL_f5d243d7fa37434ab952bdac1f13f648",
              "IPY_MODEL_ec985b4b4f0d47368ace61a8ccd20051"
            ],
            "layout": "IPY_MODEL_0c6f49cd2cc74049b59ef1e8132e791d"
          }
        },
        "ba130b74d8ae4105b1bbb468a68b86fc": {
          "model_module": "@jupyter-widgets/controls",
          "model_name": "HTMLModel",
          "model_module_version": "1.5.0",
          "state": {
            "_dom_classes": [],
            "_model_module": "@jupyter-widgets/controls",
            "_model_module_version": "1.5.0",
            "_model_name": "HTMLModel",
            "_view_count": null,
            "_view_module": "@jupyter-widgets/controls",
            "_view_module_version": "1.5.0",
            "_view_name": "HTMLView",
            "description": "",
            "description_tooltip": null,
            "layout": "IPY_MODEL_f7671fb393934eda9bb0368a5c58883c",
            "placeholder": "​",
            "style": "IPY_MODEL_79b102646c354d4192331763f0b29b3f",
            "value": "100%"
          }
        },
        "f5d243d7fa37434ab952bdac1f13f648": {
          "model_module": "@jupyter-widgets/controls",
          "model_name": "FloatProgressModel",
          "model_module_version": "1.5.0",
          "state": {
            "_dom_classes": [],
            "_model_module": "@jupyter-widgets/controls",
            "_model_module_version": "1.5.0",
            "_model_name": "FloatProgressModel",
            "_view_count": null,
            "_view_module": "@jupyter-widgets/controls",
            "_view_module_version": "1.5.0",
            "_view_name": "ProgressView",
            "bar_style": "success",
            "description": "",
            "description_tooltip": null,
            "layout": "IPY_MODEL_6f6c877ca460407cbb201fd331e91325",
            "max": 3,
            "min": 0,
            "orientation": "horizontal",
            "style": "IPY_MODEL_e4c24417007641f8b25b0b841323e7ad",
            "value": 3
          }
        },
        "ec985b4b4f0d47368ace61a8ccd20051": {
          "model_module": "@jupyter-widgets/controls",
          "model_name": "HTMLModel",
          "model_module_version": "1.5.0",
          "state": {
            "_dom_classes": [],
            "_model_module": "@jupyter-widgets/controls",
            "_model_module_version": "1.5.0",
            "_model_name": "HTMLModel",
            "_view_count": null,
            "_view_module": "@jupyter-widgets/controls",
            "_view_module_version": "1.5.0",
            "_view_name": "HTMLView",
            "description": "",
            "description_tooltip": null,
            "layout": "IPY_MODEL_d21462a2bed34c8da1b7f0f329e7698f",
            "placeholder": "​",
            "style": "IPY_MODEL_011003b37c2a459d9040552a47fddd36",
            "value": " 3/3 [00:00&lt;00:00, 93.10it/s]"
          }
        },
        "0c6f49cd2cc74049b59ef1e8132e791d": {
          "model_module": "@jupyter-widgets/base",
          "model_name": "LayoutModel",
          "model_module_version": "1.2.0",
          "state": {
            "_model_module": "@jupyter-widgets/base",
            "_model_module_version": "1.2.0",
            "_model_name": "LayoutModel",
            "_view_count": null,
            "_view_module": "@jupyter-widgets/base",
            "_view_module_version": "1.2.0",
            "_view_name": "LayoutView",
            "align_content": null,
            "align_items": null,
            "align_self": null,
            "border": null,
            "bottom": null,
            "display": null,
            "flex": null,
            "flex_flow": null,
            "grid_area": null,
            "grid_auto_columns": null,
            "grid_auto_flow": null,
            "grid_auto_rows": null,
            "grid_column": null,
            "grid_gap": null,
            "grid_row": null,
            "grid_template_areas": null,
            "grid_template_columns": null,
            "grid_template_rows": null,
            "height": null,
            "justify_content": null,
            "justify_items": null,
            "left": null,
            "margin": null,
            "max_height": null,
            "max_width": null,
            "min_height": null,
            "min_width": null,
            "object_fit": null,
            "object_position": null,
            "order": null,
            "overflow": null,
            "overflow_x": null,
            "overflow_y": null,
            "padding": null,
            "right": null,
            "top": null,
            "visibility": null,
            "width": null
          }
        },
        "f7671fb393934eda9bb0368a5c58883c": {
          "model_module": "@jupyter-widgets/base",
          "model_name": "LayoutModel",
          "model_module_version": "1.2.0",
          "state": {
            "_model_module": "@jupyter-widgets/base",
            "_model_module_version": "1.2.0",
            "_model_name": "LayoutModel",
            "_view_count": null,
            "_view_module": "@jupyter-widgets/base",
            "_view_module_version": "1.2.0",
            "_view_name": "LayoutView",
            "align_content": null,
            "align_items": null,
            "align_self": null,
            "border": null,
            "bottom": null,
            "display": null,
            "flex": null,
            "flex_flow": null,
            "grid_area": null,
            "grid_auto_columns": null,
            "grid_auto_flow": null,
            "grid_auto_rows": null,
            "grid_column": null,
            "grid_gap": null,
            "grid_row": null,
            "grid_template_areas": null,
            "grid_template_columns": null,
            "grid_template_rows": null,
            "height": null,
            "justify_content": null,
            "justify_items": null,
            "left": null,
            "margin": null,
            "max_height": null,
            "max_width": null,
            "min_height": null,
            "min_width": null,
            "object_fit": null,
            "object_position": null,
            "order": null,
            "overflow": null,
            "overflow_x": null,
            "overflow_y": null,
            "padding": null,
            "right": null,
            "top": null,
            "visibility": null,
            "width": null
          }
        },
        "79b102646c354d4192331763f0b29b3f": {
          "model_module": "@jupyter-widgets/controls",
          "model_name": "DescriptionStyleModel",
          "model_module_version": "1.5.0",
          "state": {
            "_model_module": "@jupyter-widgets/controls",
            "_model_module_version": "1.5.0",
            "_model_name": "DescriptionStyleModel",
            "_view_count": null,
            "_view_module": "@jupyter-widgets/base",
            "_view_module_version": "1.2.0",
            "_view_name": "StyleView",
            "description_width": ""
          }
        },
        "6f6c877ca460407cbb201fd331e91325": {
          "model_module": "@jupyter-widgets/base",
          "model_name": "LayoutModel",
          "model_module_version": "1.2.0",
          "state": {
            "_model_module": "@jupyter-widgets/base",
            "_model_module_version": "1.2.0",
            "_model_name": "LayoutModel",
            "_view_count": null,
            "_view_module": "@jupyter-widgets/base",
            "_view_module_version": "1.2.0",
            "_view_name": "LayoutView",
            "align_content": null,
            "align_items": null,
            "align_self": null,
            "border": null,
            "bottom": null,
            "display": null,
            "flex": null,
            "flex_flow": null,
            "grid_area": null,
            "grid_auto_columns": null,
            "grid_auto_flow": null,
            "grid_auto_rows": null,
            "grid_column": null,
            "grid_gap": null,
            "grid_row": null,
            "grid_template_areas": null,
            "grid_template_columns": null,
            "grid_template_rows": null,
            "height": null,
            "justify_content": null,
            "justify_items": null,
            "left": null,
            "margin": null,
            "max_height": null,
            "max_width": null,
            "min_height": null,
            "min_width": null,
            "object_fit": null,
            "object_position": null,
            "order": null,
            "overflow": null,
            "overflow_x": null,
            "overflow_y": null,
            "padding": null,
            "right": null,
            "top": null,
            "visibility": null,
            "width": null
          }
        },
        "e4c24417007641f8b25b0b841323e7ad": {
          "model_module": "@jupyter-widgets/controls",
          "model_name": "ProgressStyleModel",
          "model_module_version": "1.5.0",
          "state": {
            "_model_module": "@jupyter-widgets/controls",
            "_model_module_version": "1.5.0",
            "_model_name": "ProgressStyleModel",
            "_view_count": null,
            "_view_module": "@jupyter-widgets/base",
            "_view_module_version": "1.2.0",
            "_view_name": "StyleView",
            "bar_color": null,
            "description_width": ""
          }
        },
        "d21462a2bed34c8da1b7f0f329e7698f": {
          "model_module": "@jupyter-widgets/base",
          "model_name": "LayoutModel",
          "model_module_version": "1.2.0",
          "state": {
            "_model_module": "@jupyter-widgets/base",
            "_model_module_version": "1.2.0",
            "_model_name": "LayoutModel",
            "_view_count": null,
            "_view_module": "@jupyter-widgets/base",
            "_view_module_version": "1.2.0",
            "_view_name": "LayoutView",
            "align_content": null,
            "align_items": null,
            "align_self": null,
            "border": null,
            "bottom": null,
            "display": null,
            "flex": null,
            "flex_flow": null,
            "grid_area": null,
            "grid_auto_columns": null,
            "grid_auto_flow": null,
            "grid_auto_rows": null,
            "grid_column": null,
            "grid_gap": null,
            "grid_row": null,
            "grid_template_areas": null,
            "grid_template_columns": null,
            "grid_template_rows": null,
            "height": null,
            "justify_content": null,
            "justify_items": null,
            "left": null,
            "margin": null,
            "max_height": null,
            "max_width": null,
            "min_height": null,
            "min_width": null,
            "object_fit": null,
            "object_position": null,
            "order": null,
            "overflow": null,
            "overflow_x": null,
            "overflow_y": null,
            "padding": null,
            "right": null,
            "top": null,
            "visibility": null,
            "width": null
          }
        },
        "011003b37c2a459d9040552a47fddd36": {
          "model_module": "@jupyter-widgets/controls",
          "model_name": "DescriptionStyleModel",
          "model_module_version": "1.5.0",
          "state": {
            "_model_module": "@jupyter-widgets/controls",
            "_model_module_version": "1.5.0",
            "_model_name": "DescriptionStyleModel",
            "_view_count": null,
            "_view_module": "@jupyter-widgets/base",
            "_view_module_version": "1.2.0",
            "_view_name": "StyleView",
            "description_width": ""
          }
        }
      }
    }
  },
  "cells": [
    {
      "cell_type": "markdown",
      "metadata": {
        "id": "view-in-github",
        "colab_type": "text"
      },
      "source": [
        "<a href=\"https://colab.research.google.com/github/franklinwillemen/Sherlock-Hemlock-Graph-Based-NER/blob/main/data_build_test.ipynb\" target=\"_parent\"><img src=\"https://colab.research.google.com/assets/colab-badge.svg\" alt=\"Open In Colab\"/></a>"
      ]
    },
    {
      "cell_type": "code",
      "execution_count": 1,
      "metadata": {
        "colab": {
          "base_uri": "https://localhost:8080/"
        },
        "id": "CzLROV3eFvmo",
        "outputId": "addecc09-eb76-440b-9afe-d1bdd946bdaa"
      },
      "outputs": [
        {
          "output_type": "stream",
          "name": "stdout",
          "text": [
            "Mounted at /content/drive\n"
          ]
        }
      ],
      "source": [
        "import os, sys\n",
        "from google.colab import drive\n",
        "\n",
        "# Mount Google Drive\n",
        "drive.mount('/content/drive', force_remount=True)\n",
        "\n",
        "# Create a symbolic link to the Colab Notebooks directory\n",
        "nb_path = '/content/notebooks'\n",
        "\n",
        "# Check if the symbolic link or directory already exists\n",
        "if not os.path.exists(nb_path):\n",
        "    os.symlink('/content/drive/My Drive/Colab Notebooks', nb_path)\n",
        "\n",
        "# Add the symbolic link to the system path\n",
        "sys.path.insert(0, nb_path)"
      ]
    },
    {
      "cell_type": "code",
      "source": [
        "import logging\n",
        "import transformers as t\n",
        "import datasets\n",
        "from datasets import load_dataset\n",
        "import torch\n",
        "import torch_geometric\n",
        "import numpy as np\n",
        "import pandas as pd\n",
        "import spacy"
      ],
      "metadata": {
        "id": "864qOfVUHbdH"
      },
      "execution_count": 18,
      "outputs": []
    },
    {
      "cell_type": "code",
      "source": [
        "dataset = load_dataset(\"joelito/mapa\")"
      ],
      "metadata": {
        "colab": {
          "base_uri": "https://localhost:8080/",
          "height": 67,
          "referenced_widgets": [
            "ada674c56f4241f2a32856dbb8463b73",
            "ba130b74d8ae4105b1bbb468a68b86fc",
            "f5d243d7fa37434ab952bdac1f13f648",
            "ec985b4b4f0d47368ace61a8ccd20051",
            "0c6f49cd2cc74049b59ef1e8132e791d",
            "f7671fb393934eda9bb0368a5c58883c",
            "79b102646c354d4192331763f0b29b3f",
            "6f6c877ca460407cbb201fd331e91325",
            "e4c24417007641f8b25b0b841323e7ad",
            "d21462a2bed34c8da1b7f0f329e7698f",
            "011003b37c2a459d9040552a47fddd36"
          ]
        },
        "id": "0Cb4-KsyO6oe",
        "outputId": "58955c04-c399-41d1-cb8f-f3370ed8c868"
      },
      "execution_count": 19,
      "outputs": [
        {
          "output_type": "stream",
          "name": "stderr",
          "text": [
            "WARNING:datasets.builder:Found cached dataset json (/root/.cache/huggingface/datasets/joelito___json/joelito--mapa-b7771d6b2e7c8e8e/0.0.0/fe5dd6ea2639a6df622901539cb550cf8797e5a6b2dd7af1cf934bed8e233e6e)\n"
          ]
        },
        {
          "output_type": "display_data",
          "data": {
            "text/plain": [
              "  0%|          | 0/3 [00:00<?, ?it/s]"
            ],
            "application/vnd.jupyter.widget-view+json": {
              "version_major": 2,
              "version_minor": 0,
              "model_id": "ada674c56f4241f2a32856dbb8463b73"
            }
          },
          "metadata": {}
        }
      ]
    },
    {
      "cell_type": "code",
      "source": [
        "dataset"
      ],
      "metadata": {
        "colab": {
          "base_uri": "https://localhost:8080/"
        },
        "id": "1crjVG_lGygX",
        "outputId": "b0645aa0-6f94-454e-fb74-fd95877d6d6d"
      },
      "execution_count": 20,
      "outputs": [
        {
          "output_type": "execute_result",
          "data": {
            "text/plain": [
              "DatasetDict({\n",
              "    train: Dataset({\n",
              "        features: ['language', 'type', 'file_name', 'sentence_number', 'tokens', 'coarse_grained', 'fine_grained'],\n",
              "        num_rows: 27823\n",
              "    })\n",
              "    test: Dataset({\n",
              "        features: ['language', 'type', 'file_name', 'sentence_number', 'tokens', 'coarse_grained', 'fine_grained'],\n",
              "        num_rows: 10590\n",
              "    })\n",
              "    validation: Dataset({\n",
              "        features: ['language', 'type', 'file_name', 'sentence_number', 'tokens', 'coarse_grained', 'fine_grained'],\n",
              "        num_rows: 3354\n",
              "    })\n",
              "})"
            ]
          },
          "metadata": {},
          "execution_count": 20
        }
      ]
    },
    {
      "cell_type": "code",
      "source": [
        "np.unique(dataset[\"train\"][\"language\"])"
      ],
      "metadata": {
        "colab": {
          "base_uri": "https://localhost:8080/"
        },
        "id": "EQD4foesP5Bc",
        "outputId": "50dc5226-7941-4578-a99d-a6f41a5f2f29"
      },
      "execution_count": 21,
      "outputs": [
        {
          "output_type": "execute_result",
          "data": {
            "text/plain": [
              "array(['bg', 'cs', 'da', 'de', 'el', 'en', 'es', 'et', 'fi', 'fr', 'ga',\n",
              "       'hu', 'it', 'lt', 'lv', 'mt', 'nl', 'pt', 'ro', 'sk', 'sv'],\n",
              "      dtype='<U2')"
            ]
          },
          "metadata": {},
          "execution_count": 21
        }
      ]
    },
    {
      "cell_type": "code",
      "source": [
        "df = pd.DataFrame(dataset[\"train\"].to_pandas())"
      ],
      "metadata": {
        "id": "D-jzgf3rVIqf"
      },
      "execution_count": 15,
      "outputs": []
    },
    {
      "cell_type": "code",
      "source": [
        "df"
      ],
      "metadata": {
        "colab": {
          "base_uri": "https://localhost:8080/",
          "height": 424
        },
        "id": "hC0wA9p4HBtN",
        "outputId": "3a6ed30d-0f72-48ef-a6c1-f522aa9c59ca"
      },
      "execution_count": 16,
      "outputs": [
        {
          "output_type": "execute_result",
          "data": {
            "text/plain": [
              "      language     type      file_name  sentence_number   \n",
              "0           bg  EUR-LEX      204645_bg                0  \\\n",
              "1           bg  EUR-LEX      204645_bg                1   \n",
              "2           bg  EUR-LEX      204645_bg                2   \n",
              "3           bg  EUR-LEX      204645_bg                3   \n",
              "4           bg  EUR-LEX      204645_bg                4   \n",
              "...        ...      ...            ...              ...   \n",
              "27818       sv  EUR-LEX  205521_sv.txt              219   \n",
              "27819       sv  EUR-LEX  205521_sv.txt              220   \n",
              "27820       sv  EUR-LEX  205521_sv.txt              221   \n",
              "27821       sv  EUR-LEX  205521_sv.txt              222   \n",
              "27822       sv  EUR-LEX  205521_sv.txt              223   \n",
              "\n",
              "                                                  tokens   \n",
              "0      [Преюдициално, запитване, от, Rechtbank, Amste...  \\\n",
              "1                         [(, Дело, C, -, 314, /, 18, )]   \n",
              "2            [Език, на, производството, :, нидерландски]   \n",
              "3                                [Запитваща, юрисдикция]   \n",
              "4                                 [Rechtbank, Amsterdam]   \n",
              "...                                                  ...   \n",
              "27818  [–, att, en, kyrka, eller, en, annan, organisa...   \n",
              "27819  [–, att, en, särbehandling, ,, när, det, gälle...   \n",
              "27820  [2, ), En, nationell, domstol, ,, som, har, at...   \n",
              "27821                                    [Underskrifter]   \n",
              "27822                  [*, Rättegångsspråk, :, tyska, .]   \n",
              "\n",
              "                                          coarse_grained   \n",
              "0      [O, O, O, B-ORGANISATION, I-ORGANISATION, O, B...  \\\n",
              "1                               [O, O, O, O, O, O, O, O]   \n",
              "2                                        [O, O, O, O, O]   \n",
              "3                                                 [O, O]   \n",
              "4                       [B-ORGANISATION, I-ORGANISATION]   \n",
              "...                                                  ...   \n",
              "27818  [O, O, O, O, O, O, O, O, O, O, O, O, O, O, O, ...   \n",
              "27819  [O, O, O, O, O, O, O, O, O, O, O, O, O, O, O, ...   \n",
              "27820  [O, O, O, O, O, O, O, O, O, O, O, O, O, O, O, ...   \n",
              "27821                                                [O]   \n",
              "27822                                    [O, O, O, O, O]   \n",
              "\n",
              "                                            fine_grained  \n",
              "0      [O, O, O, O, O, O, B-COUNTRY, O, O, O, O, B-DA...  \n",
              "1                               [O, O, O, O, O, O, O, O]  \n",
              "2                                        [O, O, O, O, O]  \n",
              "3                                                 [O, O]  \n",
              "4                                                 [O, O]  \n",
              "...                                                  ...  \n",
              "27818  [O, O, O, O, O, O, O, O, O, O, O, O, O, O, O, ...  \n",
              "27819  [O, O, O, O, O, O, O, O, O, O, O, O, O, O, O, ...  \n",
              "27820  [O, O, O, O, O, O, O, O, O, O, O, O, O, O, O, ...  \n",
              "27821                                                [O]  \n",
              "27822                                    [O, O, O, O, O]  \n",
              "\n",
              "[27823 rows x 7 columns]"
            ],
            "text/html": [
              "\n",
              "  <div id=\"df-4cc65abd-62db-4ae6-a252-08e1ec28af62\">\n",
              "    <div class=\"colab-df-container\">\n",
              "      <div>\n",
              "<style scoped>\n",
              "    .dataframe tbody tr th:only-of-type {\n",
              "        vertical-align: middle;\n",
              "    }\n",
              "\n",
              "    .dataframe tbody tr th {\n",
              "        vertical-align: top;\n",
              "    }\n",
              "\n",
              "    .dataframe thead th {\n",
              "        text-align: right;\n",
              "    }\n",
              "</style>\n",
              "<table border=\"1\" class=\"dataframe\">\n",
              "  <thead>\n",
              "    <tr style=\"text-align: right;\">\n",
              "      <th></th>\n",
              "      <th>language</th>\n",
              "      <th>type</th>\n",
              "      <th>file_name</th>\n",
              "      <th>sentence_number</th>\n",
              "      <th>tokens</th>\n",
              "      <th>coarse_grained</th>\n",
              "      <th>fine_grained</th>\n",
              "    </tr>\n",
              "  </thead>\n",
              "  <tbody>\n",
              "    <tr>\n",
              "      <th>0</th>\n",
              "      <td>bg</td>\n",
              "      <td>EUR-LEX</td>\n",
              "      <td>204645_bg</td>\n",
              "      <td>0</td>\n",
              "      <td>[Преюдициално, запитване, от, Rechtbank, Amste...</td>\n",
              "      <td>[O, O, O, B-ORGANISATION, I-ORGANISATION, O, B...</td>\n",
              "      <td>[O, O, O, O, O, O, B-COUNTRY, O, O, O, O, B-DA...</td>\n",
              "    </tr>\n",
              "    <tr>\n",
              "      <th>1</th>\n",
              "      <td>bg</td>\n",
              "      <td>EUR-LEX</td>\n",
              "      <td>204645_bg</td>\n",
              "      <td>1</td>\n",
              "      <td>[(, Дело, C, -, 314, /, 18, )]</td>\n",
              "      <td>[O, O, O, O, O, O, O, O]</td>\n",
              "      <td>[O, O, O, O, O, O, O, O]</td>\n",
              "    </tr>\n",
              "    <tr>\n",
              "      <th>2</th>\n",
              "      <td>bg</td>\n",
              "      <td>EUR-LEX</td>\n",
              "      <td>204645_bg</td>\n",
              "      <td>2</td>\n",
              "      <td>[Език, на, производството, :, нидерландски]</td>\n",
              "      <td>[O, O, O, O, O]</td>\n",
              "      <td>[O, O, O, O, O]</td>\n",
              "    </tr>\n",
              "    <tr>\n",
              "      <th>3</th>\n",
              "      <td>bg</td>\n",
              "      <td>EUR-LEX</td>\n",
              "      <td>204645_bg</td>\n",
              "      <td>3</td>\n",
              "      <td>[Запитваща, юрисдикция]</td>\n",
              "      <td>[O, O]</td>\n",
              "      <td>[O, O]</td>\n",
              "    </tr>\n",
              "    <tr>\n",
              "      <th>4</th>\n",
              "      <td>bg</td>\n",
              "      <td>EUR-LEX</td>\n",
              "      <td>204645_bg</td>\n",
              "      <td>4</td>\n",
              "      <td>[Rechtbank, Amsterdam]</td>\n",
              "      <td>[B-ORGANISATION, I-ORGANISATION]</td>\n",
              "      <td>[O, O]</td>\n",
              "    </tr>\n",
              "    <tr>\n",
              "      <th>...</th>\n",
              "      <td>...</td>\n",
              "      <td>...</td>\n",
              "      <td>...</td>\n",
              "      <td>...</td>\n",
              "      <td>...</td>\n",
              "      <td>...</td>\n",
              "      <td>...</td>\n",
              "    </tr>\n",
              "    <tr>\n",
              "      <th>27818</th>\n",
              "      <td>sv</td>\n",
              "      <td>EUR-LEX</td>\n",
              "      <td>205521_sv.txt</td>\n",
              "      <td>219</td>\n",
              "      <td>[–, att, en, kyrka, eller, en, annan, organisa...</td>\n",
              "      <td>[O, O, O, O, O, O, O, O, O, O, O, O, O, O, O, ...</td>\n",
              "      <td>[O, O, O, O, O, O, O, O, O, O, O, O, O, O, O, ...</td>\n",
              "    </tr>\n",
              "    <tr>\n",
              "      <th>27819</th>\n",
              "      <td>sv</td>\n",
              "      <td>EUR-LEX</td>\n",
              "      <td>205521_sv.txt</td>\n",
              "      <td>220</td>\n",
              "      <td>[–, att, en, särbehandling, ,, när, det, gälle...</td>\n",
              "      <td>[O, O, O, O, O, O, O, O, O, O, O, O, O, O, O, ...</td>\n",
              "      <td>[O, O, O, O, O, O, O, O, O, O, O, O, O, O, O, ...</td>\n",
              "    </tr>\n",
              "    <tr>\n",
              "      <th>27820</th>\n",
              "      <td>sv</td>\n",
              "      <td>EUR-LEX</td>\n",
              "      <td>205521_sv.txt</td>\n",
              "      <td>221</td>\n",
              "      <td>[2, ), En, nationell, domstol, ,, som, har, at...</td>\n",
              "      <td>[O, O, O, O, O, O, O, O, O, O, O, O, O, O, O, ...</td>\n",
              "      <td>[O, O, O, O, O, O, O, O, O, O, O, O, O, O, O, ...</td>\n",
              "    </tr>\n",
              "    <tr>\n",
              "      <th>27821</th>\n",
              "      <td>sv</td>\n",
              "      <td>EUR-LEX</td>\n",
              "      <td>205521_sv.txt</td>\n",
              "      <td>222</td>\n",
              "      <td>[Underskrifter]</td>\n",
              "      <td>[O]</td>\n",
              "      <td>[O]</td>\n",
              "    </tr>\n",
              "    <tr>\n",
              "      <th>27822</th>\n",
              "      <td>sv</td>\n",
              "      <td>EUR-LEX</td>\n",
              "      <td>205521_sv.txt</td>\n",
              "      <td>223</td>\n",
              "      <td>[*, Rättegångsspråk, :, tyska, .]</td>\n",
              "      <td>[O, O, O, O, O]</td>\n",
              "      <td>[O, O, O, O, O]</td>\n",
              "    </tr>\n",
              "  </tbody>\n",
              "</table>\n",
              "<p>27823 rows × 7 columns</p>\n",
              "</div>\n",
              "      <button class=\"colab-df-convert\" onclick=\"convertToInteractive('df-4cc65abd-62db-4ae6-a252-08e1ec28af62')\"\n",
              "              title=\"Convert this dataframe to an interactive table.\"\n",
              "              style=\"display:none;\">\n",
              "        \n",
              "  <svg xmlns=\"http://www.w3.org/2000/svg\" height=\"24px\"viewBox=\"0 0 24 24\"\n",
              "       width=\"24px\">\n",
              "    <path d=\"M0 0h24v24H0V0z\" fill=\"none\"/>\n",
              "    <path d=\"M18.56 5.44l.94 2.06.94-2.06 2.06-.94-2.06-.94-.94-2.06-.94 2.06-2.06.94zm-11 1L8.5 8.5l.94-2.06 2.06-.94-2.06-.94L8.5 2.5l-.94 2.06-2.06.94zm10 10l.94 2.06.94-2.06 2.06-.94-2.06-.94-.94-2.06-.94 2.06-2.06.94z\"/><path d=\"M17.41 7.96l-1.37-1.37c-.4-.4-.92-.59-1.43-.59-.52 0-1.04.2-1.43.59L10.3 9.45l-7.72 7.72c-.78.78-.78 2.05 0 2.83L4 21.41c.39.39.9.59 1.41.59.51 0 1.02-.2 1.41-.59l7.78-7.78 2.81-2.81c.8-.78.8-2.07 0-2.86zM5.41 20L4 18.59l7.72-7.72 1.47 1.35L5.41 20z\"/>\n",
              "  </svg>\n",
              "      </button>\n",
              "      \n",
              "  <style>\n",
              "    .colab-df-container {\n",
              "      display:flex;\n",
              "      flex-wrap:wrap;\n",
              "      gap: 12px;\n",
              "    }\n",
              "\n",
              "    .colab-df-convert {\n",
              "      background-color: #E8F0FE;\n",
              "      border: none;\n",
              "      border-radius: 50%;\n",
              "      cursor: pointer;\n",
              "      display: none;\n",
              "      fill: #1967D2;\n",
              "      height: 32px;\n",
              "      padding: 0 0 0 0;\n",
              "      width: 32px;\n",
              "    }\n",
              "\n",
              "    .colab-df-convert:hover {\n",
              "      background-color: #E2EBFA;\n",
              "      box-shadow: 0px 1px 2px rgba(60, 64, 67, 0.3), 0px 1px 3px 1px rgba(60, 64, 67, 0.15);\n",
              "      fill: #174EA6;\n",
              "    }\n",
              "\n",
              "    [theme=dark] .colab-df-convert {\n",
              "      background-color: #3B4455;\n",
              "      fill: #D2E3FC;\n",
              "    }\n",
              "\n",
              "    [theme=dark] .colab-df-convert:hover {\n",
              "      background-color: #434B5C;\n",
              "      box-shadow: 0px 1px 3px 1px rgba(0, 0, 0, 0.15);\n",
              "      filter: drop-shadow(0px 1px 2px rgba(0, 0, 0, 0.3));\n",
              "      fill: #FFFFFF;\n",
              "    }\n",
              "  </style>\n",
              "\n",
              "      <script>\n",
              "        const buttonEl =\n",
              "          document.querySelector('#df-4cc65abd-62db-4ae6-a252-08e1ec28af62 button.colab-df-convert');\n",
              "        buttonEl.style.display =\n",
              "          google.colab.kernel.accessAllowed ? 'block' : 'none';\n",
              "\n",
              "        async function convertToInteractive(key) {\n",
              "          const element = document.querySelector('#df-4cc65abd-62db-4ae6-a252-08e1ec28af62');\n",
              "          const dataTable =\n",
              "            await google.colab.kernel.invokeFunction('convertToInteractive',\n",
              "                                                     [key], {});\n",
              "          if (!dataTable) return;\n",
              "\n",
              "          const docLinkHtml = 'Like what you see? Visit the ' +\n",
              "            '<a target=\"_blank\" href=https://colab.research.google.com/notebooks/data_table.ipynb>data table notebook</a>'\n",
              "            + ' to learn more about interactive tables.';\n",
              "          element.innerHTML = '';\n",
              "          dataTable['output_type'] = 'display_data';\n",
              "          await google.colab.output.renderOutput(dataTable, element);\n",
              "          const docLink = document.createElement('div');\n",
              "          docLink.innerHTML = docLinkHtml;\n",
              "          element.appendChild(docLink);\n",
              "        }\n",
              "      </script>\n",
              "    </div>\n",
              "  </div>\n",
              "  "
            ]
          },
          "metadata": {},
          "execution_count": 16
        }
      ]
    },
    {
      "cell_type": "code",
      "source": [
        "# List of language codes to drop\n",
        "languages_to_drop = [\"ga\", \"mt\", \"sk\"]\n",
        "\n",
        "# Drop the rows with the specified language codes\n",
        "mapa_df = df[~df['language'].isin(languages_to_drop)]\n",
        "\n",
        "# Reset the index of the filtered DataFrame\n",
        "mapa_df.reset_index(drop=True, inplace=True)"
      ],
      "metadata": {
        "id": "-TOeBNcaVRAh"
      },
      "execution_count": 25,
      "outputs": []
    },
    {
      "cell_type": "code",
      "source": [
        "nlner = mapa_df[mapa_df[\"language\"] == \"nl\"]"
      ],
      "metadata": {
        "id": "nRmAQ-D_vxpq"
      },
      "execution_count": 27,
      "outputs": []
    },
    {
      "cell_type": "code",
      "source": [
        "nlner"
      ],
      "metadata": {
        "colab": {
          "base_uri": "https://localhost:8080/",
          "height": 424
        },
        "id": "s6jMwsJiv-Sw",
        "outputId": "ed6f8d0e-16b6-431b-d236-d97add79edbe"
      },
      "execution_count": 30,
      "outputs": [
        {
          "output_type": "execute_result",
          "data": {
            "text/plain": [
              "      language     type  file_name  sentence_number   \n",
              "18698       nl  EUR-LEX  204645_nl                0  \\\n",
              "18699       nl  EUR-LEX  204645_nl                1   \n",
              "18700       nl  EUR-LEX  204645_nl                2   \n",
              "18701       nl  EUR-LEX  204645_nl                3   \n",
              "18702       nl  EUR-LEX  204645_nl                4   \n",
              "...        ...      ...        ...              ...   \n",
              "20084       nl  EUR-LEX  205521_nl              196   \n",
              "20085       nl  EUR-LEX  205521_nl              197   \n",
              "20086       nl  EUR-LEX  205521_nl              198   \n",
              "20087       nl  EUR-LEX  205521_nl              199   \n",
              "20088       nl  EUR-LEX  205521_nl              200   \n",
              "\n",
              "                                                  tokens   \n",
              "18698  [Verzoek, om, een, prejudiciële, beslissing, ,...  \\\n",
              "18699                     [(, Zaak, C, -, 314, /, 18, )]   \n",
              "18700                        [Procestaal, :, Nederlands]   \n",
              "18701                             [Verwijzende, rechter]   \n",
              "18702                             [Rechtbank, Amsterdam]   \n",
              "...                                                  ...   \n",
              "20084  [–, enerzijds, ,, een, kerk, of, een, andere, ...   \n",
              "20085  [–, anderzijds, ,, een, verschillende, behande...   \n",
              "20086  [2, ), Een, nationale, rechterlijke, instantie...   \n",
              "20087                                  [ondertekeningen]   \n",
              "20088                       [*, Procestaal, :, Duits, .]   \n",
              "\n",
              "                                          coarse_grained   \n",
              "18698  [O, O, O, O, O, O, O, O, O, O, B-ADDRESS, O, B...  \\\n",
              "18699                           [O, O, O, O, O, O, O, O]   \n",
              "18700                                          [O, O, O]   \n",
              "18701                                             [O, O]   \n",
              "18702                                     [O, B-ADDRESS]   \n",
              "...                                                  ...   \n",
              "20084  [O, O, O, O, O, O, O, O, O, O, O, O, O, O, O, ...   \n",
              "20085  [O, O, O, O, O, O, O, O, O, O, O, O, O, O, O, ...   \n",
              "20086  [O, O, O, O, O, O, O, O, O, O, O, O, O, O, O, ...   \n",
              "20087                                                [O]   \n",
              "20088                                    [O, O, O, O, O]   \n",
              "\n",
              "                                            fine_grained  \n",
              "18698  [O, O, O, O, O, O, O, O, O, O, B-CITY, O, B-CO...  \n",
              "18699                           [O, O, O, O, O, O, O, O]  \n",
              "18700                                          [O, O, O]  \n",
              "18701                                             [O, O]  \n",
              "18702                                        [O, B-CITY]  \n",
              "...                                                  ...  \n",
              "20084  [O, O, O, O, O, O, O, O, O, O, O, O, O, O, O, ...  \n",
              "20085  [O, O, O, O, O, O, O, O, O, O, O, O, O, O, O, ...  \n",
              "20086  [O, O, O, O, O, O, O, O, O, O, O, O, O, O, O, ...  \n",
              "20087                                                [O]  \n",
              "20088                                    [O, O, O, O, O]  \n",
              "\n",
              "[1391 rows x 7 columns]"
            ],
            "text/html": [
              "\n",
              "  <div id=\"df-c0252c22-2981-4355-ba5e-7f899003e92e\">\n",
              "    <div class=\"colab-df-container\">\n",
              "      <div>\n",
              "<style scoped>\n",
              "    .dataframe tbody tr th:only-of-type {\n",
              "        vertical-align: middle;\n",
              "    }\n",
              "\n",
              "    .dataframe tbody tr th {\n",
              "        vertical-align: top;\n",
              "    }\n",
              "\n",
              "    .dataframe thead th {\n",
              "        text-align: right;\n",
              "    }\n",
              "</style>\n",
              "<table border=\"1\" class=\"dataframe\">\n",
              "  <thead>\n",
              "    <tr style=\"text-align: right;\">\n",
              "      <th></th>\n",
              "      <th>language</th>\n",
              "      <th>type</th>\n",
              "      <th>file_name</th>\n",
              "      <th>sentence_number</th>\n",
              "      <th>tokens</th>\n",
              "      <th>coarse_grained</th>\n",
              "      <th>fine_grained</th>\n",
              "    </tr>\n",
              "  </thead>\n",
              "  <tbody>\n",
              "    <tr>\n",
              "      <th>18698</th>\n",
              "      <td>nl</td>\n",
              "      <td>EUR-LEX</td>\n",
              "      <td>204645_nl</td>\n",
              "      <td>0</td>\n",
              "      <td>[Verzoek, om, een, prejudiciële, beslissing, ,...</td>\n",
              "      <td>[O, O, O, O, O, O, O, O, O, O, B-ADDRESS, O, B...</td>\n",
              "      <td>[O, O, O, O, O, O, O, O, O, O, B-CITY, O, B-CO...</td>\n",
              "    </tr>\n",
              "    <tr>\n",
              "      <th>18699</th>\n",
              "      <td>nl</td>\n",
              "      <td>EUR-LEX</td>\n",
              "      <td>204645_nl</td>\n",
              "      <td>1</td>\n",
              "      <td>[(, Zaak, C, -, 314, /, 18, )]</td>\n",
              "      <td>[O, O, O, O, O, O, O, O]</td>\n",
              "      <td>[O, O, O, O, O, O, O, O]</td>\n",
              "    </tr>\n",
              "    <tr>\n",
              "      <th>18700</th>\n",
              "      <td>nl</td>\n",
              "      <td>EUR-LEX</td>\n",
              "      <td>204645_nl</td>\n",
              "      <td>2</td>\n",
              "      <td>[Procestaal, :, Nederlands]</td>\n",
              "      <td>[O, O, O]</td>\n",
              "      <td>[O, O, O]</td>\n",
              "    </tr>\n",
              "    <tr>\n",
              "      <th>18701</th>\n",
              "      <td>nl</td>\n",
              "      <td>EUR-LEX</td>\n",
              "      <td>204645_nl</td>\n",
              "      <td>3</td>\n",
              "      <td>[Verwijzende, rechter]</td>\n",
              "      <td>[O, O]</td>\n",
              "      <td>[O, O]</td>\n",
              "    </tr>\n",
              "    <tr>\n",
              "      <th>18702</th>\n",
              "      <td>nl</td>\n",
              "      <td>EUR-LEX</td>\n",
              "      <td>204645_nl</td>\n",
              "      <td>4</td>\n",
              "      <td>[Rechtbank, Amsterdam]</td>\n",
              "      <td>[O, B-ADDRESS]</td>\n",
              "      <td>[O, B-CITY]</td>\n",
              "    </tr>\n",
              "    <tr>\n",
              "      <th>...</th>\n",
              "      <td>...</td>\n",
              "      <td>...</td>\n",
              "      <td>...</td>\n",
              "      <td>...</td>\n",
              "      <td>...</td>\n",
              "      <td>...</td>\n",
              "      <td>...</td>\n",
              "    </tr>\n",
              "    <tr>\n",
              "      <th>20084</th>\n",
              "      <td>nl</td>\n",
              "      <td>EUR-LEX</td>\n",
              "      <td>205521_nl</td>\n",
              "      <td>196</td>\n",
              "      <td>[–, enerzijds, ,, een, kerk, of, een, andere, ...</td>\n",
              "      <td>[O, O, O, O, O, O, O, O, O, O, O, O, O, O, O, ...</td>\n",
              "      <td>[O, O, O, O, O, O, O, O, O, O, O, O, O, O, O, ...</td>\n",
              "    </tr>\n",
              "    <tr>\n",
              "      <th>20085</th>\n",
              "      <td>nl</td>\n",
              "      <td>EUR-LEX</td>\n",
              "      <td>205521_nl</td>\n",
              "      <td>197</td>\n",
              "      <td>[–, anderzijds, ,, een, verschillende, behande...</td>\n",
              "      <td>[O, O, O, O, O, O, O, O, O, O, O, O, O, O, O, ...</td>\n",
              "      <td>[O, O, O, O, O, O, O, O, O, O, O, O, O, O, O, ...</td>\n",
              "    </tr>\n",
              "    <tr>\n",
              "      <th>20086</th>\n",
              "      <td>nl</td>\n",
              "      <td>EUR-LEX</td>\n",
              "      <td>205521_nl</td>\n",
              "      <td>198</td>\n",
              "      <td>[2, ), Een, nationale, rechterlijke, instantie...</td>\n",
              "      <td>[O, O, O, O, O, O, O, O, O, O, O, O, O, O, O, ...</td>\n",
              "      <td>[O, O, O, O, O, O, O, O, O, O, O, O, O, O, O, ...</td>\n",
              "    </tr>\n",
              "    <tr>\n",
              "      <th>20087</th>\n",
              "      <td>nl</td>\n",
              "      <td>EUR-LEX</td>\n",
              "      <td>205521_nl</td>\n",
              "      <td>199</td>\n",
              "      <td>[ondertekeningen]</td>\n",
              "      <td>[O]</td>\n",
              "      <td>[O]</td>\n",
              "    </tr>\n",
              "    <tr>\n",
              "      <th>20088</th>\n",
              "      <td>nl</td>\n",
              "      <td>EUR-LEX</td>\n",
              "      <td>205521_nl</td>\n",
              "      <td>200</td>\n",
              "      <td>[*, Procestaal, :, Duits, .]</td>\n",
              "      <td>[O, O, O, O, O]</td>\n",
              "      <td>[O, O, O, O, O]</td>\n",
              "    </tr>\n",
              "  </tbody>\n",
              "</table>\n",
              "<p>1391 rows × 7 columns</p>\n",
              "</div>\n",
              "      <button class=\"colab-df-convert\" onclick=\"convertToInteractive('df-c0252c22-2981-4355-ba5e-7f899003e92e')\"\n",
              "              title=\"Convert this dataframe to an interactive table.\"\n",
              "              style=\"display:none;\">\n",
              "        \n",
              "  <svg xmlns=\"http://www.w3.org/2000/svg\" height=\"24px\"viewBox=\"0 0 24 24\"\n",
              "       width=\"24px\">\n",
              "    <path d=\"M0 0h24v24H0V0z\" fill=\"none\"/>\n",
              "    <path d=\"M18.56 5.44l.94 2.06.94-2.06 2.06-.94-2.06-.94-.94-2.06-.94 2.06-2.06.94zm-11 1L8.5 8.5l.94-2.06 2.06-.94-2.06-.94L8.5 2.5l-.94 2.06-2.06.94zm10 10l.94 2.06.94-2.06 2.06-.94-2.06-.94-.94-2.06-.94 2.06-2.06.94z\"/><path d=\"M17.41 7.96l-1.37-1.37c-.4-.4-.92-.59-1.43-.59-.52 0-1.04.2-1.43.59L10.3 9.45l-7.72 7.72c-.78.78-.78 2.05 0 2.83L4 21.41c.39.39.9.59 1.41.59.51 0 1.02-.2 1.41-.59l7.78-7.78 2.81-2.81c.8-.78.8-2.07 0-2.86zM5.41 20L4 18.59l7.72-7.72 1.47 1.35L5.41 20z\"/>\n",
              "  </svg>\n",
              "      </button>\n",
              "      \n",
              "  <style>\n",
              "    .colab-df-container {\n",
              "      display:flex;\n",
              "      flex-wrap:wrap;\n",
              "      gap: 12px;\n",
              "    }\n",
              "\n",
              "    .colab-df-convert {\n",
              "      background-color: #E8F0FE;\n",
              "      border: none;\n",
              "      border-radius: 50%;\n",
              "      cursor: pointer;\n",
              "      display: none;\n",
              "      fill: #1967D2;\n",
              "      height: 32px;\n",
              "      padding: 0 0 0 0;\n",
              "      width: 32px;\n",
              "    }\n",
              "\n",
              "    .colab-df-convert:hover {\n",
              "      background-color: #E2EBFA;\n",
              "      box-shadow: 0px 1px 2px rgba(60, 64, 67, 0.3), 0px 1px 3px 1px rgba(60, 64, 67, 0.15);\n",
              "      fill: #174EA6;\n",
              "    }\n",
              "\n",
              "    [theme=dark] .colab-df-convert {\n",
              "      background-color: #3B4455;\n",
              "      fill: #D2E3FC;\n",
              "    }\n",
              "\n",
              "    [theme=dark] .colab-df-convert:hover {\n",
              "      background-color: #434B5C;\n",
              "      box-shadow: 0px 1px 3px 1px rgba(0, 0, 0, 0.15);\n",
              "      filter: drop-shadow(0px 1px 2px rgba(0, 0, 0, 0.3));\n",
              "      fill: #FFFFFF;\n",
              "    }\n",
              "  </style>\n",
              "\n",
              "      <script>\n",
              "        const buttonEl =\n",
              "          document.querySelector('#df-c0252c22-2981-4355-ba5e-7f899003e92e button.colab-df-convert');\n",
              "        buttonEl.style.display =\n",
              "          google.colab.kernel.accessAllowed ? 'block' : 'none';\n",
              "\n",
              "        async function convertToInteractive(key) {\n",
              "          const element = document.querySelector('#df-c0252c22-2981-4355-ba5e-7f899003e92e');\n",
              "          const dataTable =\n",
              "            await google.colab.kernel.invokeFunction('convertToInteractive',\n",
              "                                                     [key], {});\n",
              "          if (!dataTable) return;\n",
              "\n",
              "          const docLinkHtml = 'Like what you see? Visit the ' +\n",
              "            '<a target=\"_blank\" href=https://colab.research.google.com/notebooks/data_table.ipynb>data table notebook</a>'\n",
              "            + ' to learn more about interactive tables.';\n",
              "          element.innerHTML = '';\n",
              "          dataTable['output_type'] = 'display_data';\n",
              "          await google.colab.output.renderOutput(dataTable, element);\n",
              "          const docLink = document.createElement('div');\n",
              "          docLink.innerHTML = docLinkHtml;\n",
              "          element.appendChild(docLink);\n",
              "        }\n",
              "      </script>\n",
              "    </div>\n",
              "  </div>\n",
              "  "
            ]
          },
          "metadata": {},
          "execution_count": 30
        }
      ]
    },
    {
      "cell_type": "code",
      "source": [
        "!python -m spacy download nl_core_news_lg"
      ],
      "metadata": {
        "colab": {
          "base_uri": "https://localhost:8080/"
        },
        "id": "zZ5fGDk9zYvl",
        "outputId": "72b6e469-d4fc-469d-c13a-207a6c3902e8"
      },
      "execution_count": 32,
      "outputs": [
        {
          "output_type": "stream",
          "name": "stdout",
          "text": [
            "2023-04-08 16:58:19.233341: W tensorflow/compiler/tf2tensorrt/utils/py_utils.cc:38] TF-TRT Warning: Could not find TensorRT\n",
            "Looking in indexes: https://pypi.org/simple, https://us-python.pkg.dev/colab-wheels/public/simple/\n",
            "Collecting nl-core-news-lg==3.5.0\n",
            "  Downloading https://github.com/explosion/spacy-models/releases/download/nl_core_news_lg-3.5.0/nl_core_news_lg-3.5.0-py3-none-any.whl (568.1 MB)\n",
            "\u001b[2K     \u001b[90m━━━━━━━━━━━━━━━━━━━━━━━━━━━━━━━━━━━━━━━\u001b[0m \u001b[32m568.1/568.1 MB\u001b[0m \u001b[31m2.4 MB/s\u001b[0m eta \u001b[36m0:00:00\u001b[0m\n",
            "\u001b[?25hRequirement already satisfied: spacy<3.6.0,>=3.5.0 in /usr/local/lib/python3.9/dist-packages (from nl-core-news-lg==3.5.0) (3.5.1)\n",
            "Requirement already satisfied: spacy-loggers<2.0.0,>=1.0.0 in /usr/local/lib/python3.9/dist-packages (from spacy<3.6.0,>=3.5.0->nl-core-news-lg==3.5.0) (1.0.4)\n",
            "Requirement already satisfied: preshed<3.1.0,>=3.0.2 in /usr/local/lib/python3.9/dist-packages (from spacy<3.6.0,>=3.5.0->nl-core-news-lg==3.5.0) (3.0.8)\n",
            "Requirement already satisfied: tqdm<5.0.0,>=4.38.0 in /usr/local/lib/python3.9/dist-packages (from spacy<3.6.0,>=3.5.0->nl-core-news-lg==3.5.0) (4.65.0)\n",
            "Requirement already satisfied: numpy>=1.15.0 in /usr/local/lib/python3.9/dist-packages (from spacy<3.6.0,>=3.5.0->nl-core-news-lg==3.5.0) (1.22.4)\n",
            "Requirement already satisfied: wasabi<1.2.0,>=0.9.1 in /usr/local/lib/python3.9/dist-packages (from spacy<3.6.0,>=3.5.0->nl-core-news-lg==3.5.0) (1.1.1)\n",
            "Requirement already satisfied: requests<3.0.0,>=2.13.0 in /usr/local/lib/python3.9/dist-packages (from spacy<3.6.0,>=3.5.0->nl-core-news-lg==3.5.0) (2.27.1)\n",
            "Requirement already satisfied: srsly<3.0.0,>=2.4.3 in /usr/local/lib/python3.9/dist-packages (from spacy<3.6.0,>=3.5.0->nl-core-news-lg==3.5.0) (2.4.6)\n",
            "Requirement already satisfied: catalogue<2.1.0,>=2.0.6 in /usr/local/lib/python3.9/dist-packages (from spacy<3.6.0,>=3.5.0->nl-core-news-lg==3.5.0) (2.0.8)\n",
            "Requirement already satisfied: pydantic!=1.8,!=1.8.1,<1.11.0,>=1.7.4 in /usr/local/lib/python3.9/dist-packages (from spacy<3.6.0,>=3.5.0->nl-core-news-lg==3.5.0) (1.10.7)\n",
            "Requirement already satisfied: thinc<8.2.0,>=8.1.8 in /usr/local/lib/python3.9/dist-packages (from spacy<3.6.0,>=3.5.0->nl-core-news-lg==3.5.0) (8.1.9)\n",
            "Requirement already satisfied: packaging>=20.0 in /usr/local/lib/python3.9/dist-packages (from spacy<3.6.0,>=3.5.0->nl-core-news-lg==3.5.0) (23.0)\n",
            "Requirement already satisfied: smart-open<7.0.0,>=5.2.1 in /usr/local/lib/python3.9/dist-packages (from spacy<3.6.0,>=3.5.0->nl-core-news-lg==3.5.0) (6.3.0)\n",
            "Requirement already satisfied: spacy-legacy<3.1.0,>=3.0.11 in /usr/local/lib/python3.9/dist-packages (from spacy<3.6.0,>=3.5.0->nl-core-news-lg==3.5.0) (3.0.12)\n",
            "Requirement already satisfied: setuptools in /usr/local/lib/python3.9/dist-packages (from spacy<3.6.0,>=3.5.0->nl-core-news-lg==3.5.0) (67.6.1)\n",
            "Requirement already satisfied: jinja2 in /usr/local/lib/python3.9/dist-packages (from spacy<3.6.0,>=3.5.0->nl-core-news-lg==3.5.0) (3.1.2)\n",
            "Requirement already satisfied: typer<0.8.0,>=0.3.0 in /usr/local/lib/python3.9/dist-packages (from spacy<3.6.0,>=3.5.0->nl-core-news-lg==3.5.0) (0.7.0)\n",
            "Requirement already satisfied: murmurhash<1.1.0,>=0.28.0 in /usr/local/lib/python3.9/dist-packages (from spacy<3.6.0,>=3.5.0->nl-core-news-lg==3.5.0) (1.0.9)\n",
            "Requirement already satisfied: pathy>=0.10.0 in /usr/local/lib/python3.9/dist-packages (from spacy<3.6.0,>=3.5.0->nl-core-news-lg==3.5.0) (0.10.1)\n",
            "Requirement already satisfied: langcodes<4.0.0,>=3.2.0 in /usr/local/lib/python3.9/dist-packages (from spacy<3.6.0,>=3.5.0->nl-core-news-lg==3.5.0) (3.3.0)\n",
            "Requirement already satisfied: cymem<2.1.0,>=2.0.2 in /usr/local/lib/python3.9/dist-packages (from spacy<3.6.0,>=3.5.0->nl-core-news-lg==3.5.0) (2.0.7)\n",
            "Requirement already satisfied: typing-extensions>=4.2.0 in /usr/local/lib/python3.9/dist-packages (from pydantic!=1.8,!=1.8.1,<1.11.0,>=1.7.4->spacy<3.6.0,>=3.5.0->nl-core-news-lg==3.5.0) (4.5.0)\n",
            "Requirement already satisfied: charset-normalizer~=2.0.0 in /usr/local/lib/python3.9/dist-packages (from requests<3.0.0,>=2.13.0->spacy<3.6.0,>=3.5.0->nl-core-news-lg==3.5.0) (2.0.12)\n",
            "Requirement already satisfied: certifi>=2017.4.17 in /usr/local/lib/python3.9/dist-packages (from requests<3.0.0,>=2.13.0->spacy<3.6.0,>=3.5.0->nl-core-news-lg==3.5.0) (2022.12.7)\n",
            "Requirement already satisfied: idna<4,>=2.5 in /usr/local/lib/python3.9/dist-packages (from requests<3.0.0,>=2.13.0->spacy<3.6.0,>=3.5.0->nl-core-news-lg==3.5.0) (3.4)\n",
            "Requirement already satisfied: urllib3<1.27,>=1.21.1 in /usr/local/lib/python3.9/dist-packages (from requests<3.0.0,>=2.13.0->spacy<3.6.0,>=3.5.0->nl-core-news-lg==3.5.0) (1.26.15)\n",
            "Requirement already satisfied: blis<0.8.0,>=0.7.8 in /usr/local/lib/python3.9/dist-packages (from thinc<8.2.0,>=8.1.8->spacy<3.6.0,>=3.5.0->nl-core-news-lg==3.5.0) (0.7.9)\n",
            "Requirement already satisfied: confection<1.0.0,>=0.0.1 in /usr/local/lib/python3.9/dist-packages (from thinc<8.2.0,>=8.1.8->spacy<3.6.0,>=3.5.0->nl-core-news-lg==3.5.0) (0.0.4)\n",
            "Requirement already satisfied: click<9.0.0,>=7.1.1 in /usr/local/lib/python3.9/dist-packages (from typer<0.8.0,>=0.3.0->spacy<3.6.0,>=3.5.0->nl-core-news-lg==3.5.0) (8.1.3)\n",
            "Requirement already satisfied: MarkupSafe>=2.0 in /usr/local/lib/python3.9/dist-packages (from jinja2->spacy<3.6.0,>=3.5.0->nl-core-news-lg==3.5.0) (2.1.2)\n",
            "Installing collected packages: nl-core-news-lg\n",
            "Successfully installed nl-core-news-lg-3.5.0\n",
            "\u001b[38;5;2m✔ Download and installation successful\u001b[0m\n",
            "You can now load the package via spacy.load('nl_core_news_lg')\n"
          ]
        }
      ]
    },
    {
      "cell_type": "code",
      "source": [
        "nlp = spacy.load(\"nl_core_news_lg\")"
      ],
      "metadata": {
        "id": "IGCeoVIw0bT4"
      },
      "execution_count": 34,
      "outputs": []
    },
    {
      "cell_type": "code",
      "source": [
        "nlp.pipeline"
      ],
      "metadata": {
        "colab": {
          "base_uri": "https://localhost:8080/"
        },
        "id": "Am4IEc0G1pLH",
        "outputId": "25174329-b7c8-4e7b-f667-23ea2370d88a"
      },
      "execution_count": 36,
      "outputs": [
        {
          "output_type": "execute_result",
          "data": {
            "text/plain": [
              "[('tok2vec', <spacy.pipeline.tok2vec.Tok2Vec at 0x7f2aef5f23a0>),\n",
              " ('morphologizer',\n",
              "  <spacy.pipeline.morphologizer.Morphologizer at 0x7f2aef5f2b20>),\n",
              " ('tagger', <spacy.pipeline.tagger.Tagger at 0x7f2aef5f2700>),\n",
              " ('parser', <spacy.pipeline.dep_parser.DependencyParser at 0x7f2aefd894a0>),\n",
              " ('lemmatizer',\n",
              "  <spacy.pipeline.edit_tree_lemmatizer.EditTreeLemmatizer at 0x7f2aef5f22e0>),\n",
              " ('attribute_ruler',\n",
              "  <spacy.pipeline.attributeruler.AttributeRuler at 0x7f2aef5be740>),\n",
              " ('ner', <spacy.pipeline.ner.EntityRecognizer at 0x7f2aefd89270>)]"
            ]
          },
          "metadata": {},
          "execution_count": 36
        }
      ]
    },
    {
      "cell_type": "code",
      "source": [
        "texts = [\n",
        "    \"Mijn moeder was eergisteren jarig\",\n",
        "    \"Wat moeten we nou met al die appels.\",\n",
        "]\n",
        "\n",
        "for text in texts:\n",
        "  doc = nlp(text)\n",
        "  for token in doc:\n",
        "    print(token.pos_)"
      ],
      "metadata": {
        "colab": {
          "base_uri": "https://localhost:8080/"
        },
        "id": "gAMKLCMgwV-F",
        "outputId": "c786e251-c279-40a7-cca0-511f4650b12e"
      },
      "execution_count": 55,
      "outputs": [
        {
          "output_type": "stream",
          "name": "stdout",
          "text": [
            "PRON\n",
            "NOUN\n",
            "AUX\n",
            "ADV\n",
            "ADJ\n",
            "PRON\n",
            "AUX\n",
            "PRON\n",
            "ADV\n",
            "ADP\n",
            "ADV\n",
            "DET\n",
            "NOUN\n",
            "PUNCT\n"
          ]
        }
      ]
    },
    {
      "cell_type": "code",
      "source": [],
      "metadata": {
        "id": "KVmsJKUhwV75"
      },
      "execution_count": null,
      "outputs": []
    },
    {
      "cell_type": "code",
      "source": [],
      "metadata": {
        "id": "gtymVMXMwV5r"
      },
      "execution_count": null,
      "outputs": []
    },
    {
      "cell_type": "code",
      "source": [],
      "metadata": {
        "id": "5o6hJRQowV22"
      },
      "execution_count": null,
      "outputs": []
    },
    {
      "cell_type": "code",
      "source": [],
      "metadata": {
        "id": "nv3JFhqzwVvP"
      },
      "execution_count": null,
      "outputs": []
    },
    {
      "cell_type": "code",
      "source": [
        "# Create a new DataFrame with the word tokens and their corresponding labels\n",
        "tokens_and_labels = []\n",
        "for index, row in enner.iterrows():\n",
        "    tokens = row[\"input\"]\n",
        "    labels = row[\"label\"]\n",
        "    for token, label in zip(tokens, labels):\n",
        "        tokens_and_labels.append({\"token\": token, \"label\": label})\n",
        "\n",
        "tokens_labels_df = pd.DataFrame(tokens_and_labels)\n",
        "\n",
        "print(tokens_labels_df.head())"
      ],
      "metadata": {
        "colab": {
          "base_uri": "https://localhost:8080/"
        },
        "id": "5MCvDrZ6Wynd",
        "outputId": "3fc64a4e-6988-452c-82b8-64ad1c8e1077"
      },
      "execution_count": null,
      "outputs": [
        {
          "output_type": "stream",
          "name": "stdout",
          "text": [
            "         token  label\n",
            "0      Request      0\n",
            "1          for      0\n",
            "2            a      0\n",
            "3  preliminary      0\n",
            "4       ruling      0\n"
          ]
        }
      ]
    },
    {
      "cell_type": "code",
      "source": [
        "tokens_labels_df[tokens_labels_df[\"label\"] == 39][\"token\"].unique()"
      ],
      "metadata": {
        "colab": {
          "base_uri": "https://localhost:8080/"
        },
        "id": "dkZYL610Y-Rr",
        "outputId": "d2b1fb5e-20a5-4fdc-97e5-c5b4ac302ecb"
      },
      "execution_count": null,
      "outputs": [
        {
          "output_type": "execute_result",
          "data": {
            "text/plain": [
              "array(['Mr', 'Ms'], dtype=object)"
            ]
          },
          "metadata": {},
          "execution_count": 111
        }
      ]
    },
    {
      "cell_type": "code",
      "source": [
        "tokens_labels_df[\"label\"].unique()"
      ],
      "metadata": {
        "colab": {
          "base_uri": "https://localhost:8080/"
        },
        "id": "glNSjnunZDOV",
        "outputId": "9f09e88c-9c09-4dc3-b6b1-4b3f838c1a64"
      },
      "execution_count": null,
      "outputs": [
        {
          "output_type": "execute_result",
          "data": {
            "text/plain": [
              "array([ 0,  5, 21, 19, 15, 27, 39, 35, 36, 29, 33, 34, 23, 24, 13, 30, 12,\n",
              "        3,  7,  8, 28,  9,  6,  4, 10, 37, 25, 26])"
            ]
          },
          "metadata": {},
          "execution_count": 94
        }
      ]
    },
    {
      "cell_type": "code",
      "source": [
        "tokens_labels_df[\"token\"].unique()"
      ],
      "metadata": {
        "colab": {
          "base_uri": "https://localhost:8080/"
        },
        "id": "4cbQduc0Z3aO",
        "outputId": "6de9ae71-d406-4a7c-b7fe-30f5edc93bc0"
      },
      "execution_count": null,
      "outputs": [
        {
          "output_type": "execute_result",
          "data": {
            "text/plain": [
              "array(['Request', 'for', 'a', ..., 'derived', 'confer', 'rely'],\n",
              "      dtype=object)"
            ]
          },
          "metadata": {},
          "execution_count": 113
        }
      ]
    },
    {
      "cell_type": "code",
      "source": [],
      "metadata": {
        "id": "jBxuyFf7mPrV"
      },
      "execution_count": null,
      "outputs": []
    }
  ]
}